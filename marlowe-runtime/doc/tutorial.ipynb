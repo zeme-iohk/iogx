{
 "cells": [
  {
   "cell_type": "markdown",
   "id": "9aac6d44-0f7f-451a-b7ae-d4acad760880",
   "metadata": {},
   "source": [
    "# Marlowe Runtime Tutorial: The ACTUS Principal at Maturity (PAM) Contract\n",
    "\n",
    "This tutorial demonstrates how to run an example Marlowe contract, the ACTUS Principal at Maturity (PAM) contract, using the Marlowe Runtime backend and its command-line tool.  See [tutorial.md](tutorial.md) to view this tutorial as a Jupyter notebook. There are more examples [here](../examples/)."
   ]
  },
  {
   "cell_type": "markdown",
   "id": "b0def9c2-b38f-4116-80f6-c624e730fbe1",
   "metadata": {},
   "source": [
    "## Prerequisites\n",
    "\n",
    "Before proceeding with this tutorial, one might want to become familiar with the [Marlowe Runtime](ReadMe.md). In particular, this tutorial requires that the Marlowe Runtime backend has been installed and is running. There are two methods for running the Marlowe Runtime backend:\n",
    "1. [Deploy using Docker](docker.md)\n",
    "2. [Deploy individual services manually](deployment.md)\n",
    "\n",
    "This tutorial assumes that all Marlowe Runtime services are using their default port numbers and are running on the local host. Running this tutorial also requires the [Nix package manager](https://nixos.org). Visit https://nixos.org or [Cardano-specific instructions](https://github.com/input-output-hk/marlowe-cardano/blob/main/README.adoc#nix-advice) for guidance on setting up Nix.\n",
    "\n",
    "There are two methods for running this tutorial onself:\n",
    "1. Execute commands from within this Jupyter notebook.\n",
    "2. Execute commands from within a Nix shell.\n",
    "\n",
    "Either method will provide a development environment containing the requisite command-line tools:\n",
    "- `marlowe`\n",
    "- `marlowe-cli`\n",
    "- `cardano-cli`\n",
    "- `json2yaml`\n",
    "- `yaml2json`\n",
    "- `jq`\n",
    "- `sed`"
   ]
  },
  {
   "cell_type": "markdown",
   "id": "30f4e251-1dc1-40c5-9f24-119f2e3e0f5e",
   "metadata": {},
   "source": [
    "### Running the Tutorial from within this Jupyter notebook\n",
    "\n",
    "In a shell terminal, clone the Marlowe Cardano git repository and launch a Jupyter notebook server:\n",
    "```bash\n",
    "git clone https://github.com/input-output-hk/marlowe-cardano.git\n",
    "cd marlowe-cardano/marlowe-runtime/doc/\n",
    "nix run ../../marlowe-cli\n",
    "```\n",
    "This should trigger a Jupyter web page to be displayed on one's browser. Double-click on the `tutorial.ipynb` file to open the notebook. To run this tutorial, simply execute each cell of this notebook in sequence."
   ]
  },
  {
   "cell_type": "markdown",
   "id": "ce54c513-8907-4088-9e3f-4743cf70bb87",
   "metadata": {
    "tags": []
   },
   "source": [
    "### Running the Tutorial from within a Nix shell\n",
    "\n",
    "In a shell terminal, clone the Marlowe Cardano git repository and enter a Nix development shell for Marlowe Runtime:\n",
    "```bash\n",
    "git clone https://github.com/input-output-hk/marlowe-cardano.git\n",
    "nix develop\n",
    "cd marlowe-cardano/marlowe-runtime/doc/\n",
    "```\n",
    "\n",
    "This should result in a new shell being opened, with a prompt starting with `[nix develop:`. To run this tutorial, simply copy and paste the commands in each cell of this notebook into the terminal containing the Nix shell."
   ]
  },
  {
   "cell_type": "markdown",
   "id": "a117fee9-6248-4298-a914-d3a16dc4bc57",
   "metadata": {
    "tags": []
   },
   "source": [
    "## The ACTUS Principal at Maturity (PAM) Contract\n",
    "\n",
    "The ACTUS PAM contract is simply a loan with periodic interest payments on a fixed schedule and a final payment of the principal. For brevity, we demonstrate this contract with just one installment of interest, followed by the repayment of the principal.\n",
    "\n",
    "The contract will be created from a template using the `marlowe-cli template actus` command, but it could also be created in the [Marlowe Playground](https://marlowe-playground-staging.plutus.aws.iohkdev.io/) or any other Marlowe-contract design tool that can output a Marlowe contract in JSON format. The contract looks like the following in Blockly format:\n",
    "\n",
    "![The ACTUS PAM contract](diagrams/actus-pam-1.png)"
   ]
  },
  {
   "cell_type": "markdown",
   "id": "a466c717-1d43-418a-a682-401c2b0a9e4d",
   "metadata": {},
   "source": [
    "## Preliminaries\n",
    "\n",
    "Since we will be running the contract on the Cardano blockchain, we need to specify the network we are using and set up several payment addresses and signing keys."
   ]
  },
  {
   "cell_type": "markdown",
   "id": "7014e502-4bec-494f-b7af-7fce5d908524",
   "metadata": {},
   "source": [
    "### Select the Cardano network"
   ]
  },
  {
   "cell_type": "markdown",
   "id": "202fc269-e4f2-405d-8962-cb39c80841db",
   "metadata": {},
   "source": [
    "Make sure that the Marlowe Runtime backend services are running and using the default values for their ports.\n",
    "\n",
    "The environment variable `CARDANO_NODE_SOCKET_PATH` must point to the socket file of the Cardano node and the enviornment variable `CARDANO_TESTNET_MAGIC` must equal the numeric value for the network magic. In this example, we use the `preview` network."
   ]
  },
  {
   "cell_type": "code",
   "execution_count": 1,
   "id": "ced2a30e-b2ba-435a-9199-bcfa0d6a8cf4",
   "metadata": {},
   "outputs": [],
   "source": [
    "export CARDANO_NODE_SOCKET_PATH=node.socket\n",
    "export CARDANO_TESTNET_MAGIC=2"
   ]
  },
  {
   "cell_type": "markdown",
   "id": "7ae0e907-2c31-4b85-926d-c62dc9cafc49",
   "metadata": {},
   "source": [
    "### Participants\n",
    "\n",
    "The ACTUS PAM contract has two participants:\n",
    "1. The *party* that lends the funds.\n",
    "2. The *counterparty* that receives the loan and pays it back with interest.\n",
    "\n",
    "We create payment keys, signing keys, and addresses for the two participants."
   ]
  },
  {
   "cell_type": "markdown",
   "id": "ea318fc6-f1dc-46a8-a4e7-83ee23a42ec3",
   "metadata": {},
   "source": [
    "#### The Party\n",
    "\n",
    "First we specify the filenames of the payment and signing keys for the party."
   ]
  },
  {
   "cell_type": "code",
   "execution_count": 2,
   "id": "009fed78-8410-4894-b904-d6ea92982d70",
   "metadata": {},
   "outputs": [],
   "source": [
    "PARTY_SKEY=john-fletcher.skey\n",
    "PARTY_VKEY=john-fletcher.vkey"
   ]
  },
  {
   "cell_type": "markdown",
   "id": "df56d582-919c-438f-986a-a9a3fffc40c7",
   "metadata": {},
   "source": [
    "Create the first party's keys, if necessary."
   ]
  },
  {
   "cell_type": "code",
   "execution_count": 3,
   "id": "0de60d98-b79e-43fc-8c7d-fd494c76390d",
   "metadata": {},
   "outputs": [
    {
     "name": "stdout",
     "output_type": "stream",
     "text": [
      "The party has the address addr_test1vqwt2xlr4d8yk4qws675exlqy6pdhq2s76wrehkjggkvr0cerfe8r.\n"
     ]
    }
   ],
   "source": [
    "if [[ ! -e \"$PARTY_SKEY\" ]]\n",
    "then\n",
    "  cardano-cli address key-gen --signing-key-file \"$PARTY_SKEY\" --verification-key-file \"$PARTY_VKEY\"\n",
    "fi\n",
    "PARTY_ADDR=$(cardano-cli address build --testnet-magic \"$CARDANO_TESTNET_MAGIC\" --payment-verification-key-file \"$PARTY_VKEY\")\n",
    "echo \"The party has the address $PARTY_ADDR.\""
   ]
  },
  {
   "cell_type": "markdown",
   "id": "17b4396a-a8ac-4976-bda4-968daaaa190e",
   "metadata": {},
   "source": [
    "Now use Daedalus or some other method to fund the address with at least 150 test Ada. Test ada can be obtained at https://docs.cardano.org/cardano-testnet/tools/faucet and Daedalus is available at https://buildkite.com/input-output-hk/daedalus.\n",
    "\n",
    "We check that the party's address has been funded."
   ]
  },
  {
   "cell_type": "code",
   "execution_count": 4,
   "id": "d8126f91-f068-4cb8-8087-5b7c2e133eac",
   "metadata": {},
   "outputs": [
    {
     "name": "stdout",
     "output_type": "stream",
     "text": [
      "                           TxHash                                 TxIx        Amount\n",
      "--------------------------------------------------------------------------------------\n",
      "487036f0f07eefc03392381a15e2ecb02cb8882379fff1da0a48fa8ca636810b     1        150000000 lovelace + TxOutDatumNone\n"
     ]
    }
   ],
   "source": [
    "cardano-cli query utxo --testnet-magic \"$CARDANO_TESTNET_MAGIC\" --address \"$PARTY_ADDR\""
   ]
  },
  {
   "cell_type": "markdown",
   "id": "beac2b0a-83c9-4f13-a1b2-d4ae12795bc7",
   "metadata": {
    "tags": []
   },
   "source": [
    "#### The Counterparty\n",
    "\n",
    "Next we specify the filenames of the payment and signing keys for the counterparty."
   ]
  },
  {
   "cell_type": "code",
   "execution_count": 5,
   "id": "359d2b9b-9bc3-4688-9689-9ef2c69cd382",
   "metadata": {},
   "outputs": [],
   "source": [
    "COUNTERPARTY_SKEY=thomas-kyd.skey\n",
    "COUNTERPARTY_VKEY=thomas-kyd.vkey"
   ]
  },
  {
   "cell_type": "markdown",
   "id": "cc9ff64b-fc5b-4308-8b6c-9208985b3600",
   "metadata": {},
   "source": [
    "Create the second party's keys, if necessary."
   ]
  },
  {
   "cell_type": "code",
   "execution_count": 6,
   "id": "c4297420-6c47-4716-bbb3-c5bb0be2ef9a",
   "metadata": {},
   "outputs": [
    {
     "name": "stdout",
     "output_type": "stream",
     "text": [
      "addr_test1vrnw6sc84eycd9j3jp0nfu7q2n8gxvze7wx7g5d8srhyr4qduxruz\n"
     ]
    }
   ],
   "source": [
    "if [[ ! -e \"$COUNTERPARTY_SKEY\" ]]\n",
    "then\n",
    "  cardano-cli address key-gen --signing-key-file \"$COUNTERPARTY_SKEY\" --verification-key-file \"$COUNTERPARTY_VKEY\"\n",
    "fi\n",
    "COUNTERPARTY_ADDR=$(cardano-cli address build --testnet-magic \"$CARDANO_TESTNET_MAGIC\" --payment-verification-key-file \"$COUNTERPARTY_VKEY\")\n",
    "echo \"$COUNTERPARTY_ADDR\""
   ]
  },
  {
   "cell_type": "markdown",
   "id": "99e87023-1c2a-4ae4-b9d5-6c304fe84331",
   "metadata": {},
   "source": [
    "Now use Daedalus or some other method to fund the address with at least 150 test Ada. \n",
    "\n",
    "We check that the party's address has been funded."
   ]
  },
  {
   "cell_type": "code",
   "execution_count": 7,
   "id": "06b1b2ea-355c-4d8a-83dd-704cb1c45b56",
   "metadata": {},
   "outputs": [
    {
     "name": "stdout",
     "output_type": "stream",
     "text": [
      "                           TxHash                                 TxIx        Amount\n",
      "--------------------------------------------------------------------------------------\n",
      "487036f0f07eefc03392381a15e2ecb02cb8882379fff1da0a48fa8ca636810b     2        150000000 lovelace + TxOutDatumNone\n"
     ]
    }
   ],
   "source": [
    "cardano-cli query utxo --testnet-magic \"$CARDANO_TESTNET_MAGIC\" --address \"$COUNTERPARTY_ADDR\""
   ]
  },
  {
   "cell_type": "markdown",
   "id": "2e5e57df-98b1-49ee-b0d8-0ca36475dd34",
   "metadata": {},
   "source": [
    "### Time computations"
   ]
  },
  {
   "cell_type": "code",
   "execution_count": 8,
   "id": "15b80716-4545-4558-825f-9d0dda82f8d5",
   "metadata": {},
   "outputs": [],
   "source": [
    "SECOND=1000\n",
    "MINUTE=$((60 * SECOND))"
   ]
  },
  {
   "cell_type": "code",
   "execution_count": 9,
   "id": "359b6f47-e0d1-4f84-8812-b96cfa361c2d",
   "metadata": {},
   "outputs": [
    {
     "name": "stdout",
     "output_type": "stream",
     "text": [
      "1666925573000\n"
     ]
    }
   ],
   "source": [
    "NOW=\"$(($(date -u +%s) * SECOND))\"\n",
    "echo \"$NOW\""
   ]
  },
  {
   "cell_type": "markdown",
   "id": "eb417b36-effb-4fc2-ae81-b7fce917aa7b",
   "metadata": {},
   "source": [
    "## Design the Contract\n",
    "\n",
    "We set the parameters for the ACTUS PAM contract, first in environment variables and then in the JSON file that contains the full set of ACTUS parameters. See [marlowe-actus](../../marlowe-actus/README.md) for more information on using ACTUS in Marlowe."
   ]
  },
  {
   "cell_type": "code",
   "execution_count": 10,
   "id": "c5845b3d-12cf-47f0-a53c-0da3e4fe89f2",
   "metadata": {
    "tags": []
   },
   "outputs": [],
   "source": [
    "SECOND=1000\n",
    "MINUTE=$((60 * SECOND))\n",
    "NOW=\"$(($(date -u +%s) * SECOND))\"\n",
    "\n",
    "ADA=1000000\n",
    "MINIMUM_ADA=$((3 * ADA))\n",
    "\n",
    "PRINCIPAL=100\n",
    "INTEREST_RATE=0.02\n",
    "INTEREST=$(jq -n $PRINCIPAL*$INTEREST_RATE)\n",
    "\n",
    "STATUS_DATE=$(date -d \"$(date -u -R -d @$((NOW/1000)))\" +\"%Y-%m-%dT00:00:00\")\n",
    "INITIAL_EXCHANGE_DATE=$(date -d \"$(date -u -R -d @$((NOW/1000))) + 1 year\" +\"%Y-01-01T00:00:00\")\n",
    "MATURITY_DATE=$(date -d \"$(date -u -R -d @$((NOW/1000))) + 2 year\" +\"%Y-01-01T00:00:00\")"
   ]
  },
  {
   "cell_type": "code",
   "execution_count": 11,
   "id": "ece6fd44-d1ea-44b6-a8e4-240c4549417c",
   "metadata": {},
   "outputs": [
    {
     "name": "stdout",
     "output_type": "stream",
     "text": [
      "{\"accruedInterest\":0,\"collateralAmount\":0,\"contractId\":\"0\",\"contractPerformance\":\"PF\",\"contractRole\":\"RPA\",\"contractType\":\"PAM\",\"cycleAnchorDateOfInterestPayment\":\"2023-01-01T00:00:00\",\"cycleOfInterestPayment\":\"P1YL1\",\"dayCountConvention\":\"30E360\",\"enableSettlement\":false,\"initialExchangeDate\":\"2023-01-01T00:00:00\",\"interestCalculationBase\":\"NT\",\"maturityDate\":\"2024-01-01T00:00:00\",\"nominalInterestRate\":0.02,\"notionalPrincipal\":100,\"penaltyType\":\"O\",\"prepaymentEffect\":\"N\",\"scheduleConfig\":{\"businessDayConvention\":\"NULL\",\"calendar\":\"NC\",\"endOfMonthConvention\":\"EOM\"},\"statusDate\":\"2022-10-27T00:00:00\"}\n"
     ]
    }
   ],
   "source": [
    "yaml2json << EOI > tutorial.actus\n",
    "scheduleConfig:\n",
    "  businessDayConvention: \"NULL\"\n",
    "  endOfMonthConvention: \"EOM\"\n",
    "  calendar: \"NC\"\n",
    "maturityDate: \"$MATURITY_DATE\"\n",
    "contractId: \"0\"\n",
    "enableSettlement: false\n",
    "initialExchangeDate: \"$INITIAL_EXCHANGE_DATE\"\n",
    "contractRole: \"RPA\"\n",
    "penaltyType: \"O\"\n",
    "cycleAnchorDateOfInterestPayment: \"$INITIAL_EXCHANGE_DATE\"\n",
    "contractType: \"PAM\"\n",
    "notionalPrincipal: $PRINCIPAL\n",
    "contractPerformance: \"PF\"\n",
    "collateralAmount: 0\n",
    "dayCountConvention: \"30E360\"\n",
    "accruedInterest: 0\n",
    "statusDate: \"$STATUS_DATE\"\n",
    "cycleOfInterestPayment: \"P1YL1\"\n",
    "prepaymentEffect: \"N\"\n",
    "nominalInterestRate: $INTEREST_RATE\n",
    "interestCalculationBase: \"NT\"\n",
    "EOI\n",
    "cat tutorial.actus"
   ]
  },
  {
   "cell_type": "markdown",
   "id": "d58d8071-9907-4d2c-b686-48139d7841ca",
   "metadata": {},
   "source": [
    "Now use the `marlowe-cli template actus` command to convert the ACTUS parameters into a Marlowe contract. See the documentation for [marlowe-cli template](../../marlowe-cli/doc/template.md) for more information."
   ]
  },
  {
   "cell_type": "code",
   "execution_count": 12,
   "id": "028339ed-6d5e-4e71-9895-3a965a0252c9",
   "metadata": {},
   "outputs": [],
   "source": [
    "marlowe-cli template actus \\\n",
    "  --minimum-ada \"$MINIMUM_ADA\" \\\n",
    "  --party \"$PARTY_ADDR\" \\\n",
    "  --counter-party \"$COUNTERPARTY_ADDR\" \\\n",
    "  --actus-terms-file  tutorial.actus \\\n",
    "  --out-contract-file tutorial-1.contract \\\n",
    "  --out-state-file /dev/null"
   ]
  },
  {
   "cell_type": "markdown",
   "id": "cc6d76dd-d7f0-4a83-ad1e-affd955e98a6",
   "metadata": {},
   "source": [
    "View the contract, which closely corresponds to the Blocky diagram shown above for the contract."
   ]
  },
  {
   "cell_type": "code",
   "execution_count": 13,
   "id": "661bb16a-2739-4354-a796-bbaedf39f698",
   "metadata": {},
   "outputs": [
    {
     "name": "stdout",
     "output_type": "stream",
     "text": [
      "timeout: 1672531200000\n",
      "timeout_continuation: close\n",
      "when:\n",
      "- case:\n",
      "    deposits:\n",
      "      negate:\n",
      "        negate: 100000000\n",
      "    into_account:\n",
      "      address: addr_test1vqwt2xlr4d8yk4qws675exlqy6pdhq2s76wrehkjggkvr0cerfe8r\n",
      "    of_token:\n",
      "      currency_symbol: ''\n",
      "      token_name: ''\n",
      "    party:\n",
      "      address: addr_test1vqwt2xlr4d8yk4qws675exlqy6pdhq2s76wrehkjggkvr0cerfe8r\n",
      "  then:\n",
      "    from_account:\n",
      "      address: addr_test1vqwt2xlr4d8yk4qws675exlqy6pdhq2s76wrehkjggkvr0cerfe8r\n",
      "    pay: 100000000\n",
      "    then:\n",
      "      timeout: 1704067200000\n",
      "      timeout_continuation: close\n",
      "      when:\n",
      "      - case:\n",
      "          deposits: 2000000\n",
      "          into_account:\n",
      "            address: addr_test1vrnw6sc84eycd9j3jp0nfu7q2n8gxvze7wx7g5d8srhyr4qduxruz\n",
      "          of_token:\n",
      "            currency_symbol: ''\n",
      "            token_name: ''\n",
      "          party:\n",
      "            address: addr_test1vrnw6sc84eycd9j3jp0nfu7q2n8gxvze7wx7g5d8srhyr4qduxruz\n",
      "        then:\n",
      "          from_account:\n",
      "            address: addr_test1vrnw6sc84eycd9j3jp0nfu7q2n8gxvze7wx7g5d8srhyr4qduxruz\n",
      "          pay: 2000000\n",
      "          then:\n",
      "            timeout: 1704067200000\n",
      "            timeout_continuation: close\n",
      "            when:\n",
      "            - case:\n",
      "                deposits: 100000000\n",
      "                into_account:\n",
      "                  address: addr_test1vrnw6sc84eycd9j3jp0nfu7q2n8gxvze7wx7g5d8srhyr4qduxruz\n",
      "                of_token:\n",
      "                  currency_symbol: ''\n",
      "                  token_name: ''\n",
      "                party:\n",
      "                  address: addr_test1vrnw6sc84eycd9j3jp0nfu7q2n8gxvze7wx7g5d8srhyr4qduxruz\n",
      "              then:\n",
      "                from_account:\n",
      "                  address: addr_test1vrnw6sc84eycd9j3jp0nfu7q2n8gxvze7wx7g5d8srhyr4qduxruz\n",
      "                pay: 100000000\n",
      "                then: close\n",
      "                to:\n",
      "                  party:\n",
      "                    address: addr_test1vqwt2xlr4d8yk4qws675exlqy6pdhq2s76wrehkjggkvr0cerfe8r\n",
      "                token:\n",
      "                  currency_symbol: ''\n",
      "                  token_name: ''\n",
      "          to:\n",
      "            party:\n",
      "              address: addr_test1vqwt2xlr4d8yk4qws675exlqy6pdhq2s76wrehkjggkvr0cerfe8r\n",
      "          token:\n",
      "            currency_symbol: ''\n",
      "            token_name: ''\n",
      "    to:\n",
      "      party:\n",
      "        address: addr_test1vrnw6sc84eycd9j3jp0nfu7q2n8gxvze7wx7g5d8srhyr4qduxruz\n",
      "    token:\n",
      "      currency_symbol: ''\n",
      "      token_name: ''\n"
     ]
    }
   ],
   "source": [
    "json2yaml tutorial-1.contract"
   ]
  },
  {
   "cell_type": "markdown",
   "id": "a1548c6e-3288-4a7e-90f4-6439edeb22ca",
   "metadata": {},
   "source": [
    "## Run the Contract\n",
    "\n",
    "Running this example contract to completion involves four transactions on the blockchain:\n",
    "1. Create the contract by depositing the minimum Ada required to store the contract on the blockchain.\n",
    "2. The party deposits the funds for the loan, which triggers the payment of the principal to the counterparty.\n",
    "3. The counterparty deposits their first (and only) installment of interest, which triggers its payment to the party.\n",
    "4. The counterparty deposits the principal, which triggers its payment and the repayment of the minimum Ada back to the party."
   ]
  },
  {
   "cell_type": "markdown",
   "id": "f2eb9ff2-86b8-437e-aa04-a1a38cebea9a",
   "metadata": {},
   "source": [
    "### Transaction 1. Create the contract"
   ]
  },
  {
   "cell_type": "markdown",
   "id": "ab570c22-0af1-4168-9269-ebefce6bfa6d",
   "metadata": {},
   "source": [
    "We use the `marlowe create` command to build the transaction that creates the contract. This requires the following input data:\n",
    "- `--core-file`: The name of Core Marlowe JSON file containing the contract to be created.\n",
    "- `--min-utxo`: The amount of Ada to be deposited in the contract when it is created, so that the Cardano ledger's minimum-UTxO requirement is satisfied.\n",
    "- `--change-address`: The Cardano address to which the leftover change from the transaction will be sent.\n",
    "- `--address`: The Cardano address whose unspent UTxOs will be used to pay for the transaction.\n",
    "- `--manual-sign`: The name of the file that will be created to store the unsigned transaction.\n",
    "\n",
    "The command will create the unsigned transaction the identifier for the transaction, which is also the identifier for the Marlowe contract instance. See the [help page](marlowe/create.md) for more information about this command."
   ]
  },
  {
   "cell_type": "code",
   "execution_count": 14,
   "id": "142661e5-a5b3-4e48-9d02-d5aca344d2e2",
   "metadata": {},
   "outputs": [
    {
     "name": "stdout",
     "output_type": "stream",
     "text": [
      "CONTRACT_ID = TX_1 = 54f75925a350a9cf80ff8d917b94826ab5747a126d670fa1fb4bdf4298bdd219#1\n"
     ]
    }
   ],
   "source": [
    "TX_1=$(\n",
    "marlowe create \\\n",
    "  --core-file tutorial-1.contract \\\n",
    "  --min-utxo \"$MINIMUM_ADA\" \\\n",
    "  --change-address \"$PARTY_ADDR\" \\\n",
    "  --address \"$PARTY_ADDR\" \\\n",
    "  --manual-sign tutorial-1.txbody \\\n",
    "| sed -e 's/^.*\"\\([^\\\\]*\\)\\\\.*$/\\1/' \\\n",
    ")\n",
    "CONTRACT_ID=\"$TX_1\"\n",
    "echo \"CONTRACT_ID = TX_1 = $CONTRACT_ID\""
   ]
  },
  {
   "cell_type": "markdown",
   "id": "b31ec973-5b0f-4fb7-bdca-c266bd66fdc1",
   "metadata": {},
   "source": [
    "For security reasons, Marlowe Runtime will not sign transactions or handle signing keys. To sign the transaction here, we use the `cardano-cli transaction sign` tool, but any wallet or signing tool could be used."
   ]
  },
  {
   "cell_type": "code",
   "execution_count": 15,
   "id": "5d4c94bc-d747-47c6-be60-55656a3ee6ca",
   "metadata": {},
   "outputs": [],
   "source": [
    "cardano-cli transaction sign \\\n",
    "  --tx-body-file tutorial-1.txbody \\\n",
    "  --out-file     tutorial-1.tx \\\n",
    "  --signing-key-file \"$PARTY_SKEY\""
   ]
  },
  {
   "cell_type": "markdown",
   "id": "bebb0d27-0a99-4f3d-ab06-09b627ee514e",
   "metadata": {},
   "source": [
    "We now submit the transaction using Marlowe Runtime and wait for the confirmation."
   ]
  },
  {
   "cell_type": "code",
   "execution_count": 16,
   "id": "04ff93e3-b751-440a-b310-12ebe095401a",
   "metadata": {},
   "outputs": [
    {
     "name": "stdout",
     "output_type": "stream",
     "text": [
      "\"{\\\"blockHeaderHash\\\":\\\"3c69e702facde686d13646acffc7f983dee236d2bfec470ada6e3ad8b8ead7f9\\\",\\\"blockNo\\\":320096,\\\"slotNo\\\":6922384}\"\n"
     ]
    }
   ],
   "source": [
    "marlowe submit tutorial-1.tx"
   ]
  },
  {
   "cell_type": "markdown",
   "id": "b63f5847-141e-4378-96e2-5683f0c54e52",
   "metadata": {},
   "source": [
    "### View the result of creating the contract\n",
    "\n",
    "We can now view the UTxO that holds the newly created contract. First we need to compute the address of the Marlowe contract."
   ]
  },
  {
   "cell_type": "code",
   "execution_count": 17,
   "id": "808a16fb-9133-4544-a60f-6e9fdf7f6cae",
   "metadata": {},
   "outputs": [
    {
     "name": "stdout",
     "output_type": "stream",
     "text": [
      "addr_test1wp4f8ywk4fg672xasahtk4t9k6w3aql943uxz5rt62d4dvqu3c6jv\n"
     ]
    }
   ],
   "source": [
    "CONTRACT_ADDR=$(marlowe-cli contract address)\n",
    "echo \"$CONTRACT_ADDR\""
   ]
  },
  {
   "cell_type": "markdown",
   "id": "b285afca-a9cf-4fc8-bd72-615665c16648",
   "metadata": {},
   "source": [
    "We now query the blockchain at this address, just printing this one UTxO. We see that the contract has the 3 Ada that was used to create the contract and it has a datum hash that records the contract and its state."
   ]
  },
  {
   "cell_type": "code",
   "execution_count": 18,
   "id": "f9820b1e-590f-498d-b843-b258eaebf404",
   "metadata": {},
   "outputs": [
    {
     "name": "stdout",
     "output_type": "stream",
     "text": [
      "                           TxHash                                 TxIx        Amount\n",
      "--------------------------------------------------------------------------------------\n",
      "54f75925a350a9cf80ff8d917b94826ab5747a126d670fa1fb4bdf4298bdd219     1        3000000 lovelace + TxOutDatumHash ScriptDataInBabbageEra \"853ad3c1d92a5de8505923b65d039e2d4759a3786f7df70a811d716b9c8506df\"\n"
     ]
    }
   ],
   "source": [
    "cardano-cli query utxo --testnet-magic \"$CARDANO_TESTNET_MAGIC\" --address \"$CONTRACT_ADDR\" | sed -n -e \"1,2p;/${TX_1//#*/}/p\""
   ]
  },
  {
   "cell_type": "markdown",
   "id": "89a38a79-8328-43df-9a59-b571246342a7",
   "metadata": {},
   "source": [
    "The balance of funds at the party's address reduced by the 3 Ada and the transaction fee."
   ]
  },
  {
   "cell_type": "code",
   "execution_count": 19,
   "id": "b6e69d70-991d-4755-b401-a4d53ee3e2df",
   "metadata": {},
   "outputs": [
    {
     "name": "stdout",
     "output_type": "stream",
     "text": [
      "                           TxHash                                 TxIx        Amount\n",
      "--------------------------------------------------------------------------------------\n",
      "54f75925a350a9cf80ff8d917b94826ab5747a126d670fa1fb4bdf4298bdd219     0        146785395 lovelace + TxOutDatumNone\n"
     ]
    }
   ],
   "source": [
    "cardano-cli query utxo --testnet-magic \"$CARDANO_TESTNET_MAGIC\" --address \"$PARTY_ADDR\""
   ]
  },
  {
   "cell_type": "markdown",
   "id": "d8846155-12a6-40be-b5ed-bea6b3d76752",
   "metadata": {},
   "source": [
    "### Use Marlowe Runtime to query information about the contract\n",
    "\n",
    "Now that we know the contract identifier, we can ask Marlowe Runtime to watch the progress of the contract on the blockchain. See the [help page](marlowe/add.md) for more information about the `marlowe add` command."
   ]
  },
  {
   "cell_type": "code",
   "execution_count": 20,
   "id": "0e4ceeb0-350f-464b-86ea-e36b98ec06ff",
   "metadata": {},
   "outputs": [
    {
     "name": "stdout",
     "output_type": "stream",
     "text": [
      "54f75925a350a9cf80ff8d917b94826ab5747a126d670fa1fb4bdf4298bdd219#1\n"
     ]
    }
   ],
   "source": [
    "marlowe add \"$CONTRACT_ID\""
   ]
  },
  {
   "cell_type": "markdown",
   "id": "b6034089-e687-4ec1-92ec-464d0a1274da",
   "metadata": {},
   "source": [
    "See that the contract is being watched by Marlowe Runtime. See the [help page](marlowe/ls.md) for more information on the `marlowe ls` command."
   ]
  },
  {
   "cell_type": "code",
   "execution_count": 21,
   "id": "f862cd83-d7bf-4013-a4cb-4bed510b8c75",
   "metadata": {},
   "outputs": [
    {
     "name": "stdout",
     "output_type": "stream",
     "text": [
      "54f75925a350a9cf80ff8d917b94826ab5747a126d670fa1fb4bdf4298bdd219#1\n"
     ]
    }
   ],
   "source": [
    "marlowe ls"
   ]
  },
  {
   "cell_type": "markdown",
   "id": "f2db93da-856a-4d61-bd88-48eb5075af84",
   "metadata": {},
   "source": [
    "We can also view the contract's history, which is just the single creation transaction. See the [help page](marlowe/log.md) for more information about the `marlowe log` command."
   ]
  },
  {
   "cell_type": "code",
   "execution_count": 22,
   "id": "19957835-6376-4b13-a2ad-2c35763b75a3",
   "metadata": {},
   "outputs": [
    {
     "name": "stdout",
     "output_type": "stream",
     "text": [
      "\u001b[93mtransaction 54f75925a350a9cf80ff8d917b94826ab5747a126d670fa1fb4bdf4298bdd219 (creation)\n",
      "\u001b[0mContractId:      54f75925a350a9cf80ff8d917b94826ab5747a126d670fa1fb4bdf4298bdd219#1\n",
      "SlotNo:          6922384\n",
      "BlockNo:         320096\n",
      "BlockId:         3c69e702facde686d13646acffc7f983dee236d2bfec470ada6e3ad8b8ead7f9\n",
      "ScriptAddress:   addr_test1wp4f8ywk4fg672xasahtk4t9k6w3aql943uxz5rt62d4dvqu3c6jv\n",
      "Marlowe Version: 1\n",
      "\n",
      "    When [\n",
      "      (Case\n",
      "         (Deposit Address \"addr_test1vqwt2xlr4d8yk4qws675exlqy6pdhq2s76wrehkjggkvr0cerfe8r\" Address \"addr_test1vqwt2xlr4d8yk4qws675exlqy6pdhq2s76wrehkjggkvr0cerfe8r\"\n",
      "            (Token \"\" \"\")\n",
      "            (NegValue\n",
      "               (NegValue\n",
      "                  (Constant 100000000))))\n",
      "         (Pay Address \"addr_test1vqwt2xlr4d8yk4qws675exlqy6pdhq2s76wrehkjggkvr0cerfe8r\"\n",
      "            (Party Address \"addr_test1vrnw6sc84eycd9j3jp0nfu7q2n8gxvze7wx7g5d8srhyr4qduxruz\")\n",
      "            (Token \"\" \"\")\n",
      "            (Constant 100000000)\n",
      "            (When [\n",
      "               (Case\n",
      "                  (Deposit Address \"addr_test1vrnw6sc84eycd9j3jp0nfu7q2n8gxvze7wx7g5d8srhyr4qduxruz\" Address \"addr_test1vrnw6sc84eycd9j3jp0nfu7q2n8gxvze7wx7g5d8srhyr4qduxruz\"\n",
      "                     (Token \"\" \"\")\n",
      "                     (Constant 2000000))\n",
      "                  (Pay Address \"addr_test1vrnw6sc84eycd9j3jp0nfu7q2n8gxvze7wx7g5d8srhyr4qduxruz\"\n",
      "                     (Party Address \"addr_test1vqwt2xlr4d8yk4qws675exlqy6pdhq2s76wrehkjggkvr0cerfe8r\")\n",
      "                     (Token \"\" \"\")\n",
      "                     (Constant 2000000)\n",
      "                     (When [\n",
      "                        (Case\n",
      "                           (Deposit Address \"addr_test1vrnw6sc84eycd9j3jp0nfu7q2n8gxvze7wx7g5d8srhyr4qduxruz\" Address \"addr_test1vrnw6sc84eycd9j3jp0nfu7q2n8gxvze7wx7g5d8srhyr4qduxruz\"\n",
      "                              (Token \"\" \"\")\n",
      "                              (Constant 100000000))\n",
      "                           (Pay Address \"addr_test1vrnw6sc84eycd9j3jp0nfu7q2n8gxvze7wx7g5d8srhyr4qduxruz\"\n",
      "                              (Party Address \"addr_test1vqwt2xlr4d8yk4qws675exlqy6pdhq2s76wrehkjggkvr0cerfe8r\")\n",
      "                              (Token \"\" \"\")\n",
      "                              (Constant 100000000) Close))] 1704067200000 Close)))] 1704067200000 Close)))] 1672531200000 Close\n",
      "\n"
     ]
    }
   ],
   "source": [
    "marlowe log --show-contract \"$CONTRACT_ID\""
   ]
  },
  {
   "cell_type": "markdown",
   "id": "018393a9-ce39-4071-8e41-82d58bc43348",
   "metadata": {},
   "source": [
    "### Transaction 2. Party deposits loan amount"
   ]
  },
  {
   "cell_type": "markdown",
   "id": "4cd1edf5-63cc-4d85-9b8b-21a80f2b1211",
   "metadata": {},
   "source": [
    "We use the `marlowe deposit` command to build the transaction that makes the first deposit for the contract. This requires the following input data:\n",
    "- `--contract`: The identifier of the contract, which is the UTxO that created the contract.\n",
    "- `--from-party`: The party making the deposit.\n",
    "- `--to-party`: The internal account receiving the deposit.\n",
    "- `--lovelace`: The amount of lovelace being deposited.\n",
    "- `--validity-lower-bound`: The earliest POSIX time (in milliseconds) for which the transaction is valid.\n",
    "- `--validity-upper-bound`: The latest POSIX time (in milliseconds) for which the transaction is valid.\n",
    "- `--change-address`: The Cardano address to which the leftover change from the transaction will be sent.\n",
    "- `--address`: The Cardano address whose unspent UTxOs will be used to pay for the transaction.\n",
    "- `--manual-sign`: The name of the file that will be created to store the unsigned transaction.\n",
    "\n",
    "The command will create the unsigned transaction the identifier for the transaction, which is also the identifier for the Marlowe contract instance. See the [help page](marlowe/create.md) for more information about this command."
   ]
  },
  {
   "cell_type": "code",
   "execution_count": 23,
   "id": "ae87d08c-3878-4871-a3e1-665edce5c5b1",
   "metadata": {},
   "outputs": [
    {
     "name": "stdout",
     "output_type": "stream",
     "text": [
      "TX_2 = a244dbed33d04efd7cc20d85bde1633e04e2e981802036d10033ad480a09e9fe\n"
     ]
    }
   ],
   "source": [
    "RIGHT_NOW=$(($(date -u +%s)*SECOND))\n",
    "\n",
    "TX_2=$(\n",
    "marlowe deposit \\\n",
    "  --contract \"$CONTRACT_ID\" \\\n",
    "  --from-party \"$PARTY_ADDR\" \\\n",
    "  --to-party \"$PARTY_ADDR\" \\\n",
    "  --lovelace \"$((PRINCIPAL*ADA))\" \\\n",
    "  --validity-lower-bound \"$((RIGHT_NOW-1*MINUTE))\" \\\n",
    "  --validity-upper-bound \"$((RIGHT_NOW+2*MINUTE))\" \\\n",
    "  --change-address \"$PARTY_ADDR\" \\\n",
    "  --address \"$PARTY_ADDR\" \\\n",
    "  --manual-sign tutorial-2.txbody \\\n",
    "| sed -e 's/^.*\"\\([^\\\\]*\\)\\\\.*$/\\1/' \\\n",
    ")\n",
    "\n",
    "echo \"TX_2 = $TX_2\""
   ]
  },
  {
   "cell_type": "markdown",
   "id": "10103e7a-c7f9-4123-98e0-cc365fd5782c",
   "metadata": {},
   "source": [
    "Sign the transaction, as we ddid previously."
   ]
  },
  {
   "cell_type": "code",
   "execution_count": 24,
   "id": "89fa94a4-c73a-47e8-8d4e-f7184208bb28",
   "metadata": {},
   "outputs": [],
   "source": [
    "cardano-cli transaction sign \\\n",
    "  --tx-body-file tutorial-2.txbody \\\n",
    "  --out-file     tutorial-2.tx \\\n",
    "  --signing-key-file \"$PARTY_SKEY\""
   ]
  },
  {
   "cell_type": "markdown",
   "id": "4fc1597c-efbc-4765-bc6e-2fef522b3216",
   "metadata": {},
   "source": [
    "Submit the transaction using Marlowe Runtime."
   ]
  },
  {
   "cell_type": "code",
   "execution_count": 25,
   "id": "6a09322f-a3c2-4537-bd95-8a9b8e646c7a",
   "metadata": {},
   "outputs": [
    {
     "name": "stdout",
     "output_type": "stream",
     "text": [
      "\"{\\\"blockHeaderHash\\\":\\\"9b6cb2f4942c55fe33cb8fba7e5d13d8e672cb55f32252ffced3dcb5b0dc9f4f\\\",\\\"blockNo\\\":320097,\\\"slotNo\\\":6922389}\"\n"
     ]
    }
   ],
   "source": [
    "marlowe submit tutorial-2.tx"
   ]
  },
  {
   "cell_type": "markdown",
   "id": "fe999d9b-49b5-47a6-9c57-07449e462ae6",
   "metadata": {},
   "source": [
    "### View the result of depositing the funds.\n",
    "\n",
    "Because the deposit passed through the contract, the amount of Ada in the contract hasn't changed. The new datum hash reflects the change in the state of the contract."
   ]
  },
  {
   "cell_type": "code",
   "execution_count": 26,
   "id": "8c7238fb-73eb-473f-976c-16f8aa89dd85",
   "metadata": {},
   "outputs": [
    {
     "name": "stdout",
     "output_type": "stream",
     "text": [
      "                           TxHash                                 TxIx        Amount\n",
      "--------------------------------------------------------------------------------------\n",
      "a244dbed33d04efd7cc20d85bde1633e04e2e981802036d10033ad480a09e9fe     1        3000000 lovelace + TxOutDatumHash ScriptDataInBabbageEra \"bc50044ff8005d8e541a3819cf9b88c43bc7818ca8ab1ab455d9c8a82d41d42d\"\n"
     ]
    }
   ],
   "source": [
    "cardano-cli query utxo --testnet-magic \"$CARDANO_TESTNET_MAGIC\" --address \"$CONTRACT_ADDR\" | sed -n -e \"1,2p;/${TX_2//#*/}/p\""
   ]
  },
  {
   "cell_type": "markdown",
   "id": "ad19e2ab-76b2-4fdd-bd6b-55b6a771d3f5",
   "metadata": {},
   "source": [
    "However, the party has 100 Ada fewer at their address."
   ]
  },
  {
   "cell_type": "code",
   "execution_count": 27,
   "id": "54ec1f80-0e25-4dc3-91eb-de2d4fb1e6e3",
   "metadata": {},
   "outputs": [
    {
     "name": "stdout",
     "output_type": "stream",
     "text": [
      "                           TxHash                                 TxIx        Amount\n",
      "--------------------------------------------------------------------------------------\n",
      "a244dbed33d04efd7cc20d85bde1633e04e2e981802036d10033ad480a09e9fe     0        46031732 lovelace + TxOutDatumNone\n"
     ]
    }
   ],
   "source": [
    "cardano-cli query utxo --testnet-magic \"$CARDANO_TESTNET_MAGIC\" --address \"$PARTY_ADDR\""
   ]
  },
  {
   "cell_type": "markdown",
   "id": "903bfc0e-4be3-4689-8071-f5a2584e9308",
   "metadata": {},
   "source": [
    "Conversely, the counterparty has 100 Ada more at their address."
   ]
  },
  {
   "cell_type": "code",
   "execution_count": 28,
   "id": "39d0b7d3-15b5-47e5-8c79-0f58941ceb87",
   "metadata": {},
   "outputs": [
    {
     "name": "stdout",
     "output_type": "stream",
     "text": [
      "                           TxHash                                 TxIx        Amount\n",
      "--------------------------------------------------------------------------------------\n",
      "487036f0f07eefc03392381a15e2ecb02cb8882379fff1da0a48fa8ca636810b     2        150000000 lovelace + TxOutDatumNone\n",
      "a244dbed33d04efd7cc20d85bde1633e04e2e981802036d10033ad480a09e9fe     2        100000000 lovelace + TxOutDatumNone\n"
     ]
    }
   ],
   "source": [
    "cardano-cli query utxo --testnet-magic \"$CARDANO_TESTNET_MAGIC\" --address \"$COUNTERPARTY_ADDR\""
   ]
  },
  {
   "cell_type": "markdown",
   "id": "844cbfbb-2e11-4638-b393-3e13fd5ef47f",
   "metadata": {},
   "source": [
    "### Use Marlowe Runtime to Query the Contract\n",
    "\n",
    "There are now two transactions in the contract instance's history."
   ]
  },
  {
   "cell_type": "code",
   "execution_count": 29,
   "id": "f7f41b02-3418-4bc5-a3cd-035a437b3b28",
   "metadata": {},
   "outputs": [
    {
     "name": "stdout",
     "output_type": "stream",
     "text": [
      "\u001b[93mtransaction 54f75925a350a9cf80ff8d917b94826ab5747a126d670fa1fb4bdf4298bdd219 (creation)\n",
      "\u001b[0mContractId:      54f75925a350a9cf80ff8d917b94826ab5747a126d670fa1fb4bdf4298bdd219#1\n",
      "SlotNo:          6922384\n",
      "BlockNo:         320096\n",
      "BlockId:         3c69e702facde686d13646acffc7f983dee236d2bfec470ada6e3ad8b8ead7f9\n",
      "ScriptAddress:   addr_test1wp4f8ywk4fg672xasahtk4t9k6w3aql943uxz5rt62d4dvqu3c6jv\n",
      "Marlowe Version: 1\n",
      "\n",
      "    When [\n",
      "      (Case\n",
      "         (Deposit Address \"addr_test1vqwt2xlr4d8yk4qws675exlqy6pdhq2s76wrehkjggkvr0cerfe8r\" Address \"addr_test1vqwt2xlr4d8yk4qws675exlqy6pdhq2s76wrehkjggkvr0cerfe8r\"\n",
      "            (Token \"\" \"\")\n",
      "            (NegValue\n",
      "               (NegValue\n",
      "                  (Constant 100000000))))\n",
      "         (Pay Address \"addr_test1vqwt2xlr4d8yk4qws675exlqy6pdhq2s76wrehkjggkvr0cerfe8r\"\n",
      "            (Party Address \"addr_test1vrnw6sc84eycd9j3jp0nfu7q2n8gxvze7wx7g5d8srhyr4qduxruz\")\n",
      "            (Token \"\" \"\")\n",
      "            (Constant 100000000)\n",
      "            (When [\n",
      "               (Case\n",
      "                  (Deposit Address \"addr_test1vrnw6sc84eycd9j3jp0nfu7q2n8gxvze7wx7g5d8srhyr4qduxruz\" Address \"addr_test1vrnw6sc84eycd9j3jp0nfu7q2n8gxvze7wx7g5d8srhyr4qduxruz\"\n",
      "                     (Token \"\" \"\")\n",
      "                     (Constant 2000000))\n",
      "                  (Pay Address \"addr_test1vrnw6sc84eycd9j3jp0nfu7q2n8gxvze7wx7g5d8srhyr4qduxruz\"\n",
      "                     (Party Address \"addr_test1vqwt2xlr4d8yk4qws675exlqy6pdhq2s76wrehkjggkvr0cerfe8r\")\n",
      "                     (Token \"\" \"\")\n",
      "                     (Constant 2000000)\n",
      "                     (When [\n",
      "                        (Case\n",
      "                           (Deposit Address \"addr_test1vrnw6sc84eycd9j3jp0nfu7q2n8gxvze7wx7g5d8srhyr4qduxruz\" Address \"addr_test1vrnw6sc84eycd9j3jp0nfu7q2n8gxvze7wx7g5d8srhyr4qduxruz\"\n",
      "                              (Token \"\" \"\")\n",
      "                              (Constant 100000000))\n",
      "                           (Pay Address \"addr_test1vrnw6sc84eycd9j3jp0nfu7q2n8gxvze7wx7g5d8srhyr4qduxruz\"\n",
      "                              (Party Address \"addr_test1vqwt2xlr4d8yk4qws675exlqy6pdhq2s76wrehkjggkvr0cerfe8r\")\n",
      "                              (Token \"\" \"\")\n",
      "                              (Constant 100000000) Close))] 1704067200000 Close)))] 1704067200000 Close)))] 1672531200000 Close\n",
      "\n",
      "\u001b[93mtransaction a244dbed33d04efd7cc20d85bde1633e04e2e981802036d10033ad480a09e9fe\n",
      "\u001b[0mContractId: 54f75925a350a9cf80ff8d917b94826ab5747a126d670fa1fb4bdf4298bdd219#1\n",
      "SlotNo:     6922389\n",
      "BlockNo:    320097\n",
      "BlockId:    9b6cb2f4942c55fe33cb8fba7e5d13d8e672cb55f32252ffced3dcb5b0dc9f4f\n",
      "Inputs:     [NormalInput (IDeposit \"\\\"addr_test1vqwt2xlr4d8yk4qws675exlqy6pdhq2s76wrehkjggkvr0cerfe8r\\\"\" \"\\\"addr_test1vqwt2xlr4d8yk4qws675exlqy6pdhq2s76wrehkjggkvr0cerfe8r\\\"\" (Token \"\" \"\") 100000000)]\n",
      "\n",
      "    When [\n",
      "      (Case\n",
      "         (Deposit Address \"addr_test1vrnw6sc84eycd9j3jp0nfu7q2n8gxvze7wx7g5d8srhyr4qduxruz\" Address \"addr_test1vrnw6sc84eycd9j3jp0nfu7q2n8gxvze7wx7g5d8srhyr4qduxruz\"\n",
      "            (Token \"\" \"\")\n",
      "            (Constant 2000000))\n",
      "         (Pay Address \"addr_test1vrnw6sc84eycd9j3jp0nfu7q2n8gxvze7wx7g5d8srhyr4qduxruz\"\n",
      "            (Party Address \"addr_test1vqwt2xlr4d8yk4qws675exlqy6pdhq2s76wrehkjggkvr0cerfe8r\")\n",
      "            (Token \"\" \"\")\n",
      "            (Constant 2000000)\n",
      "            (When [\n",
      "               (Case\n",
      "                  (Deposit Address \"addr_test1vrnw6sc84eycd9j3jp0nfu7q2n8gxvze7wx7g5d8srhyr4qduxruz\" Address \"addr_test1vrnw6sc84eycd9j3jp0nfu7q2n8gxvze7wx7g5d8srhyr4qduxruz\"\n",
      "                     (Token \"\" \"\")\n",
      "                     (Constant 100000000))\n",
      "                  (Pay Address \"addr_test1vrnw6sc84eycd9j3jp0nfu7q2n8gxvze7wx7g5d8srhyr4qduxruz\"\n",
      "                     (Party Address \"addr_test1vqwt2xlr4d8yk4qws675exlqy6pdhq2s76wrehkjggkvr0cerfe8r\")\n",
      "                     (Token \"\" \"\")\n",
      "                     (Constant 100000000) Close))] 1704067200000 Close)))] 1704067200000 Close\n",
      "\n"
     ]
    }
   ],
   "source": [
    "marlowe log --show-contract \"$CONTRACT_ID\""
   ]
  },
  {
   "cell_type": "markdown",
   "id": "f567ae18-6a52-4658-a5f8-94ac187bb52f",
   "metadata": {},
   "source": [
    "We see that the contract has become smaller after the party made their deposit of principal.\n",
    "\n",
    "![Contract after party's deposit of principal](diagrams/actus-pam-2.png)"
   ]
  },
  {
   "cell_type": "markdown",
   "id": "180f4297-da9a-4586-b402-7bea959cde51",
   "metadata": {},
   "source": [
    "### Transaction 3. Counterparty repays the loan's interest"
   ]
  },
  {
   "cell_type": "markdown",
   "id": "921eea56-2cda-4a0f-9738-2af638900ace",
   "metadata": {},
   "source": [
    "The counterparty now repays the interest."
   ]
  },
  {
   "cell_type": "code",
   "execution_count": 30,
   "id": "aed96149-4bfa-435a-92eb-bc7edadb82ed",
   "metadata": {},
   "outputs": [
    {
     "name": "stdout",
     "output_type": "stream",
     "text": [
      "TX_3 = c95e11ec5370a2c0e0d77356e54e9dfdea10bbc18a0097f5f3c40a27ce2f9c30\n"
     ]
    }
   ],
   "source": [
    "RIGHT_NOW=$(($(date -u +%s)*SECOND))\n",
    "\n",
    "TX_3=$(\n",
    "marlowe deposit \\\n",
    "  --contract \"$CONTRACT_ID\" \\\n",
    "  --from-party \"$COUNTERPARTY_ADDR\" \\\n",
    "  --to-party \"$COUNTERPARTY_ADDR\" \\\n",
    "  --lovelace \"$((INTEREST*ADA))\" \\\n",
    "  --validity-lower-bound \"$((RIGHT_NOW-1*MINUTE))\" \\\n",
    "  --validity-upper-bound \"$((RIGHT_NOW+2*MINUTE))\" \\\n",
    "  --change-address \"$COUNTERPARTY_ADDR\" \\\n",
    "  --address \"$COUNTERPARTY_ADDR\" \\\n",
    "  --manual-sign tutorial-3.txbody \\\n",
    "| sed -e 's/^.*\"\\([^\\\\]*\\)\\\\.*$/\\1/' \\\n",
    ")\n",
    "\n",
    "echo \"TX_3 = $TX_3\""
   ]
  },
  {
   "cell_type": "markdown",
   "id": "c3e994e5-78ee-423f-9c93-16445a591bd5",
   "metadata": {},
   "source": [
    "Sign the transaction."
   ]
  },
  {
   "cell_type": "code",
   "execution_count": 31,
   "id": "aab08869-94f9-42fb-a407-53d297f83545",
   "metadata": {},
   "outputs": [],
   "source": [
    "cardano-cli transaction sign \\\n",
    "  --tx-body-file tutorial-3.txbody \\\n",
    "  --out-file     tutorial-3.tx \\\n",
    "  --signing-key-file \"$COUNTERPARTY_SKEY\""
   ]
  },
  {
   "cell_type": "markdown",
   "id": "2ba52feb-ad4c-4e7c-abd3-77f92c84cfc9",
   "metadata": {},
   "source": [
    "Submit the transaction using Marlowe Runtime."
   ]
  },
  {
   "cell_type": "code",
   "execution_count": 32,
   "id": "113b0b07-815d-4bd5-a971-a71536f236cd",
   "metadata": {},
   "outputs": [
    {
     "name": "stdout",
     "output_type": "stream",
     "text": [
      "\"{\\\"blockHeaderHash\\\":\\\"7d1966e36ec7da2b2926ae489b606061a2f59e2ea38cf6b9ffcd5aadcf9f954a\\\",\\\"blockNo\\\":320098,\\\"slotNo\\\":6922414}\"\n"
     ]
    }
   ],
   "source": [
    "marlowe submit tutorial-3.tx"
   ]
  },
  {
   "cell_type": "markdown",
   "id": "ab54430d-c4bb-4dff-8ed7-c15935fc3e37",
   "metadata": {},
   "source": [
    "### View the results of depositing the interest\n",
    "\n",
    "The payment of interest passed through the contract, so the net Ada in the contract hasn't changed, even though the state of the contract did change."
   ]
  },
  {
   "cell_type": "code",
   "execution_count": 33,
   "id": "76dc964a-fc31-4d16-a6cc-605c83bd7e88",
   "metadata": {},
   "outputs": [
    {
     "name": "stdout",
     "output_type": "stream",
     "text": [
      "                           TxHash                                 TxIx        Amount\n",
      "--------------------------------------------------------------------------------------\n",
      "c95e11ec5370a2c0e0d77356e54e9dfdea10bbc18a0097f5f3c40a27ce2f9c30     1        3000000 lovelace + TxOutDatumHash ScriptDataInBabbageEra \"a65cd52951315be368aaaaf3c4ceeb6e644e61c5c8628461eba7147672d88612\"\n"
     ]
    }
   ],
   "source": [
    "cardano-cli query utxo --testnet-magic \"$CARDANO_TESTNET_MAGIC\" --address \"$CONTRACT_ADDR\" | sed -n -e \"1,2p;/${TX_3//#*/}/p\""
   ]
  },
  {
   "cell_type": "markdown",
   "id": "91fb6f14-42a4-474b-9db3-6525d6c76b98",
   "metadata": {},
   "source": [
    "The party received the interest payment of 2 Ada."
   ]
  },
  {
   "cell_type": "code",
   "execution_count": 34,
   "id": "8059bc85-7b6b-49da-8fc3-4474786a131e",
   "metadata": {},
   "outputs": [
    {
     "name": "stdout",
     "output_type": "stream",
     "text": [
      "                           TxHash                                 TxIx        Amount\n",
      "--------------------------------------------------------------------------------------\n",
      "a244dbed33d04efd7cc20d85bde1633e04e2e981802036d10033ad480a09e9fe     0        46031732 lovelace + TxOutDatumNone\n",
      "c95e11ec5370a2c0e0d77356e54e9dfdea10bbc18a0097f5f3c40a27ce2f9c30     2        2000000 lovelace + TxOutDatumNone\n"
     ]
    }
   ],
   "source": [
    "cardano-cli query utxo --testnet-magic \"$CARDANO_TESTNET_MAGIC\" --address \"$PARTY_ADDR\""
   ]
  },
  {
   "cell_type": "markdown",
   "id": "43101080-aef3-4aa6-867a-385a91ebec64",
   "metadata": {},
   "source": [
    "The counterparty has 2 Ada and the transaction fee less than previously."
   ]
  },
  {
   "cell_type": "code",
   "execution_count": 35,
   "id": "0fde72d0-2c71-4ad5-b4e6-44e5f1f4dc35",
   "metadata": {},
   "outputs": [
    {
     "name": "stdout",
     "output_type": "stream",
     "text": [
      "                           TxHash                                 TxIx        Amount\n",
      "--------------------------------------------------------------------------------------\n",
      "a244dbed33d04efd7cc20d85bde1633e04e2e981802036d10033ad480a09e9fe     2        100000000 lovelace + TxOutDatumNone\n",
      "c95e11ec5370a2c0e0d77356e54e9dfdea10bbc18a0097f5f3c40a27ce2f9c30     0        147308372 lovelace + TxOutDatumNone\n"
     ]
    }
   ],
   "source": [
    "cardano-cli query utxo --testnet-magic \"$CARDANO_TESTNET_MAGIC\" --address \"$COUNTERPARTY_ADDR\""
   ]
  },
  {
   "cell_type": "markdown",
   "id": "1a8e7d17-cb7a-49eb-8cc9-377cc5a2ed44",
   "metadata": {},
   "source": [
    "### Use Marlowe Runtime to query the contract\n",
    "\n",
    "Now we see that there are three transactions in the contract's history."
   ]
  },
  {
   "cell_type": "code",
   "execution_count": 36,
   "id": "616eda62-08ae-40f0-a967-bc6fbda74245",
   "metadata": {},
   "outputs": [
    {
     "name": "stdout",
     "output_type": "stream",
     "text": [
      "\u001b[93mtransaction 54f75925a350a9cf80ff8d917b94826ab5747a126d670fa1fb4bdf4298bdd219 (creation)\n",
      "\u001b[0mContractId:      54f75925a350a9cf80ff8d917b94826ab5747a126d670fa1fb4bdf4298bdd219#1\n",
      "SlotNo:          6922384\n",
      "BlockNo:         320096\n",
      "BlockId:         3c69e702facde686d13646acffc7f983dee236d2bfec470ada6e3ad8b8ead7f9\n",
      "ScriptAddress:   addr_test1wp4f8ywk4fg672xasahtk4t9k6w3aql943uxz5rt62d4dvqu3c6jv\n",
      "Marlowe Version: 1\n",
      "\n",
      "    When [\n",
      "      (Case\n",
      "         (Deposit Address \"addr_test1vqwt2xlr4d8yk4qws675exlqy6pdhq2s76wrehkjggkvr0cerfe8r\" Address \"addr_test1vqwt2xlr4d8yk4qws675exlqy6pdhq2s76wrehkjggkvr0cerfe8r\"\n",
      "            (Token \"\" \"\")\n",
      "            (NegValue\n",
      "               (NegValue\n",
      "                  (Constant 100000000))))\n",
      "         (Pay Address \"addr_test1vqwt2xlr4d8yk4qws675exlqy6pdhq2s76wrehkjggkvr0cerfe8r\"\n",
      "            (Party Address \"addr_test1vrnw6sc84eycd9j3jp0nfu7q2n8gxvze7wx7g5d8srhyr4qduxruz\")\n",
      "            (Token \"\" \"\")\n",
      "            (Constant 100000000)\n",
      "            (When [\n",
      "               (Case\n",
      "                  (Deposit Address \"addr_test1vrnw6sc84eycd9j3jp0nfu7q2n8gxvze7wx7g5d8srhyr4qduxruz\" Address \"addr_test1vrnw6sc84eycd9j3jp0nfu7q2n8gxvze7wx7g5d8srhyr4qduxruz\"\n",
      "                     (Token \"\" \"\")\n",
      "                     (Constant 2000000))\n",
      "                  (Pay Address \"addr_test1vrnw6sc84eycd9j3jp0nfu7q2n8gxvze7wx7g5d8srhyr4qduxruz\"\n",
      "                     (Party Address \"addr_test1vqwt2xlr4d8yk4qws675exlqy6pdhq2s76wrehkjggkvr0cerfe8r\")\n",
      "                     (Token \"\" \"\")\n",
      "                     (Constant 2000000)\n",
      "                     (When [\n",
      "                        (Case\n",
      "                           (Deposit Address \"addr_test1vrnw6sc84eycd9j3jp0nfu7q2n8gxvze7wx7g5d8srhyr4qduxruz\" Address \"addr_test1vrnw6sc84eycd9j3jp0nfu7q2n8gxvze7wx7g5d8srhyr4qduxruz\"\n",
      "                              (Token \"\" \"\")\n",
      "                              (Constant 100000000))\n",
      "                           (Pay Address \"addr_test1vrnw6sc84eycd9j3jp0nfu7q2n8gxvze7wx7g5d8srhyr4qduxruz\"\n",
      "                              (Party Address \"addr_test1vqwt2xlr4d8yk4qws675exlqy6pdhq2s76wrehkjggkvr0cerfe8r\")\n",
      "                              (Token \"\" \"\")\n",
      "                              (Constant 100000000) Close))] 1704067200000 Close)))] 1704067200000 Close)))] 1672531200000 Close\n",
      "\n",
      "\u001b[93mtransaction a244dbed33d04efd7cc20d85bde1633e04e2e981802036d10033ad480a09e9fe\n",
      "\u001b[0mContractId: 54f75925a350a9cf80ff8d917b94826ab5747a126d670fa1fb4bdf4298bdd219#1\n",
      "SlotNo:     6922389\n",
      "BlockNo:    320097\n",
      "BlockId:    9b6cb2f4942c55fe33cb8fba7e5d13d8e672cb55f32252ffced3dcb5b0dc9f4f\n",
      "Inputs:     [NormalInput (IDeposit \"\\\"addr_test1vqwt2xlr4d8yk4qws675exlqy6pdhq2s76wrehkjggkvr0cerfe8r\\\"\" \"\\\"addr_test1vqwt2xlr4d8yk4qws675exlqy6pdhq2s76wrehkjggkvr0cerfe8r\\\"\" (Token \"\" \"\") 100000000)]\n",
      "\n",
      "    When [\n",
      "      (Case\n",
      "         (Deposit Address \"addr_test1vrnw6sc84eycd9j3jp0nfu7q2n8gxvze7wx7g5d8srhyr4qduxruz\" Address \"addr_test1vrnw6sc84eycd9j3jp0nfu7q2n8gxvze7wx7g5d8srhyr4qduxruz\"\n",
      "            (Token \"\" \"\")\n",
      "            (Constant 2000000))\n",
      "         (Pay Address \"addr_test1vrnw6sc84eycd9j3jp0nfu7q2n8gxvze7wx7g5d8srhyr4qduxruz\"\n",
      "            (Party Address \"addr_test1vqwt2xlr4d8yk4qws675exlqy6pdhq2s76wrehkjggkvr0cerfe8r\")\n",
      "            (Token \"\" \"\")\n",
      "            (Constant 2000000)\n",
      "            (When [\n",
      "               (Case\n",
      "                  (Deposit Address \"addr_test1vrnw6sc84eycd9j3jp0nfu7q2n8gxvze7wx7g5d8srhyr4qduxruz\" Address \"addr_test1vrnw6sc84eycd9j3jp0nfu7q2n8gxvze7wx7g5d8srhyr4qduxruz\"\n",
      "                     (Token \"\" \"\")\n",
      "                     (Constant 100000000))\n",
      "                  (Pay Address \"addr_test1vrnw6sc84eycd9j3jp0nfu7q2n8gxvze7wx7g5d8srhyr4qduxruz\"\n",
      "                     (Party Address \"addr_test1vqwt2xlr4d8yk4qws675exlqy6pdhq2s76wrehkjggkvr0cerfe8r\")\n",
      "                     (Token \"\" \"\")\n",
      "                     (Constant 100000000) Close))] 1704067200000 Close)))] 1704067200000 Close\n",
      "\n",
      "\u001b[93mtransaction c95e11ec5370a2c0e0d77356e54e9dfdea10bbc18a0097f5f3c40a27ce2f9c30\n",
      "\u001b[0mContractId: 54f75925a350a9cf80ff8d917b94826ab5747a126d670fa1fb4bdf4298bdd219#1\n",
      "SlotNo:     6922414\n",
      "BlockNo:    320098\n",
      "BlockId:    7d1966e36ec7da2b2926ae489b606061a2f59e2ea38cf6b9ffcd5aadcf9f954a\n",
      "Inputs:     [NormalInput (IDeposit \"\\\"addr_test1vrnw6sc84eycd9j3jp0nfu7q2n8gxvze7wx7g5d8srhyr4qduxruz\\\"\" \"\\\"addr_test1vrnw6sc84eycd9j3jp0nfu7q2n8gxvze7wx7g5d8srhyr4qduxruz\\\"\" (Token \"\" \"\") 2000000)]\n",
      "\n",
      "    When [\n",
      "      (Case\n",
      "         (Deposit Address \"addr_test1vrnw6sc84eycd9j3jp0nfu7q2n8gxvze7wx7g5d8srhyr4qduxruz\" Address \"addr_test1vrnw6sc84eycd9j3jp0nfu7q2n8gxvze7wx7g5d8srhyr4qduxruz\"\n",
      "            (Token \"\" \"\")\n",
      "            (Constant 100000000))\n",
      "         (Pay Address \"addr_test1vrnw6sc84eycd9j3jp0nfu7q2n8gxvze7wx7g5d8srhyr4qduxruz\"\n",
      "            (Party Address \"addr_test1vqwt2xlr4d8yk4qws675exlqy6pdhq2s76wrehkjggkvr0cerfe8r\")\n",
      "            (Token \"\" \"\")\n",
      "            (Constant 100000000) Close))] 1704067200000 Close\n",
      "\n"
     ]
    }
   ],
   "source": [
    "marlowe log --show-contract \"$CONTRACT_ID\""
   ]
  },
  {
   "cell_type": "markdown",
   "id": "d39643a3-9e97-44bd-a1e0-d4ce6b82090f",
   "metadata": {},
   "source": [
    "We see that the contract has become even smaller after the counterparty made their deposit of interest.\n",
    "\n",
    "![Contract after counterparty's deposit of interest](diagrams/actus-pam-3.png)"
   ]
  },
  {
   "cell_type": "markdown",
   "id": "7420647f-210f-4ec5-a77d-473eee9cb96d",
   "metadata": {},
   "source": [
    "### Transaction 4. Counterparty repays the loan's principal"
   ]
  },
  {
   "cell_type": "markdown",
   "id": "cc62efb7-f762-4684-9428-62d07589f129",
   "metadata": {},
   "source": [
    "The counterparty repays the principal."
   ]
  },
  {
   "cell_type": "code",
   "execution_count": 37,
   "id": "a0f48feb-79b8-4ee7-b48c-238c6a1b2c97",
   "metadata": {},
   "outputs": [
    {
     "name": "stdout",
     "output_type": "stream",
     "text": [
      "TX_4 = 5f399752c56bb5f335ec7a590d9018d50d23bcdbe173911e364da58e30ca16a3\n"
     ]
    }
   ],
   "source": [
    "RIGHT_NOW=$(($(date -u +%s)*SECOND))\n",
    "\n",
    "TX_4=$(\n",
    "marlowe deposit \\\n",
    "  --contract \"$CONTRACT_ID\" \\\n",
    "  --from-party \"$COUNTERPARTY_ADDR\" \\\n",
    "  --to-party \"$COUNTERPARTY_ADDR\" \\\n",
    "  --lovelace \"$((PRINCIPAL*ADA))\" \\\n",
    "  --validity-lower-bound \"$((RIGHT_NOW-1*MINUTE))\" \\\n",
    "  --validity-upper-bound \"$((RIGHT_NOW+2*MINUTE))\" \\\n",
    "  --change-address \"$COUNTERPARTY_ADDR\" \\\n",
    "  --address \"$COUNTERPARTY_ADDR\" \\\n",
    "  --manual-sign tutorial-4.txbody \\\n",
    "| sed -e 's/^.*\"\\([^\\\\]*\\)\\\\.*$/\\1/' \\\n",
    ")\n",
    "\n",
    "echo \"TX_4 = $TX_4\""
   ]
  },
  {
   "cell_type": "markdown",
   "id": "425d1c71-c0f3-458f-86f3-dec0e1840ac2",
   "metadata": {},
   "source": [
    "Sign the transaction."
   ]
  },
  {
   "cell_type": "code",
   "execution_count": 38,
   "id": "725ec119-acd8-40b5-acf1-e4600b58eff8",
   "metadata": {},
   "outputs": [],
   "source": [
    "cardano-cli transaction sign \\\n",
    "  --tx-body-file tutorial-4.txbody \\\n",
    "  --out-file     tutorial-4.tx \\\n",
    "  --signing-key-file \"$COUNTERPARTY_SKEY\""
   ]
  },
  {
   "cell_type": "markdown",
   "id": "47341232-b7a9-42f9-9a10-ddb688590f7c",
   "metadata": {},
   "source": [
    "Submit the transaction using Marlowe Runtime."
   ]
  },
  {
   "cell_type": "code",
   "execution_count": 39,
   "id": "00354c05-0448-4c4f-b859-61c510b82ef8",
   "metadata": {},
   "outputs": [
    {
     "name": "stdout",
     "output_type": "stream",
     "text": [
      "\"{\\\"blockHeaderHash\\\":\\\"a484733eaf37997c3c7bc5a1572cae001b50842cbd037852cd73bb269f63c08b\\\",\\\"blockNo\\\":320099,\\\"slotNo\\\":6922431}\"\n"
     ]
    }
   ],
   "source": [
    "marlowe submit tutorial-4.tx"
   ]
  },
  {
   "cell_type": "markdown",
   "id": "4920f032-d229-49f0-9d05-4e43d186fee9",
   "metadata": {},
   "source": [
    "### View the results of depositing the principal\n",
    "\n",
    "The contract closed, so there is no UTxO at the contract address."
   ]
  },
  {
   "cell_type": "code",
   "execution_count": 40,
   "id": "415aaf13-94f9-4453-89f0-6a710a38437b",
   "metadata": {},
   "outputs": [
    {
     "name": "stdout",
     "output_type": "stream",
     "text": [
      "                           TxHash                                 TxIx        Amount\n",
      "--------------------------------------------------------------------------------------\n"
     ]
    }
   ],
   "source": [
    "cardano-cli query utxo --testnet-magic \"$CARDANO_TESTNET_MAGIC\" --address \"$CONTRACT_ADDR\" | sed -n -e \"1,2p;/${TX_4//#*/}/p\""
   ]
  },
  {
   "cell_type": "markdown",
   "id": "adb0d4dc-393c-4bdb-8829-656c53743b4f",
   "metadata": {},
   "source": [
    "The party received their 100 Ada of principal and their initial 3 Ada used to create the contract."
   ]
  },
  {
   "cell_type": "code",
   "execution_count": 41,
   "id": "5304bc05-29e3-4978-b976-586737d0d3a8",
   "metadata": {},
   "outputs": [
    {
     "name": "stdout",
     "output_type": "stream",
     "text": [
      "                           TxHash                                 TxIx        Amount\n",
      "--------------------------------------------------------------------------------------\n",
      "5f399752c56bb5f335ec7a590d9018d50d23bcdbe173911e364da58e30ca16a3     1        103000000 lovelace + TxOutDatumNone\n",
      "a244dbed33d04efd7cc20d85bde1633e04e2e981802036d10033ad480a09e9fe     0        46031732 lovelace + TxOutDatumNone\n",
      "c95e11ec5370a2c0e0d77356e54e9dfdea10bbc18a0097f5f3c40a27ce2f9c30     2        2000000 lovelace + TxOutDatumNone\n"
     ]
    }
   ],
   "source": [
    "cardano-cli query utxo --testnet-magic \"$CARDANO_TESTNET_MAGIC\" --address \"$PARTY_ADDR\""
   ]
  },
  {
   "cell_type": "markdown",
   "id": "12368429-b608-4631-ba71-d7fab383a9d4",
   "metadata": {},
   "source": [
    "The counterparty's balance has dropped by the principal amount, and the transaction fee."
   ]
  },
  {
   "cell_type": "code",
   "execution_count": 42,
   "id": "356b0519-a027-4c30-bbcc-c874776d63c5",
   "metadata": {},
   "outputs": [
    {
     "name": "stdout",
     "output_type": "stream",
     "text": [
      "                           TxHash                                 TxIx        Amount\n",
      "--------------------------------------------------------------------------------------\n",
      "5f399752c56bb5f335ec7a590d9018d50d23bcdbe173911e364da58e30ca16a3     0        46770803 lovelace + TxOutDatumNone\n",
      "a244dbed33d04efd7cc20d85bde1633e04e2e981802036d10033ad480a09e9fe     2        100000000 lovelace + TxOutDatumNone\n"
     ]
    }
   ],
   "source": [
    "cardano-cli query utxo --testnet-magic \"$CARDANO_TESTNET_MAGIC\" --address \"$COUNTERPARTY_ADDR\""
   ]
  },
  {
   "cell_type": "markdown",
   "id": "35f26baa-7fe8-45b8-9c5a-bdff1a33ca91",
   "metadata": {},
   "source": [
    "### Use Marlowe Runtime to view the full history of the contract\n",
    "\n",
    "We now see the final transaction in the contract's history."
   ]
  },
  {
   "cell_type": "code",
   "execution_count": 43,
   "id": "625cb044-f4c4-473b-9b68-b6cbf3862466",
   "metadata": {},
   "outputs": [
    {
     "name": "stdout",
     "output_type": "stream",
     "text": [
      "\u001b[93mtransaction 54f75925a350a9cf80ff8d917b94826ab5747a126d670fa1fb4bdf4298bdd219 (creation)\n",
      "\u001b[0mContractId:      54f75925a350a9cf80ff8d917b94826ab5747a126d670fa1fb4bdf4298bdd219#1\n",
      "SlotNo:          6922384\n",
      "BlockNo:         320096\n",
      "BlockId:         3c69e702facde686d13646acffc7f983dee236d2bfec470ada6e3ad8b8ead7f9\n",
      "ScriptAddress:   addr_test1wp4f8ywk4fg672xasahtk4t9k6w3aql943uxz5rt62d4dvqu3c6jv\n",
      "Marlowe Version: 1\n",
      "\n",
      "    When [\n",
      "      (Case\n",
      "         (Deposit Address \"addr_test1vqwt2xlr4d8yk4qws675exlqy6pdhq2s76wrehkjggkvr0cerfe8r\" Address \"addr_test1vqwt2xlr4d8yk4qws675exlqy6pdhq2s76wrehkjggkvr0cerfe8r\"\n",
      "            (Token \"\" \"\")\n",
      "            (NegValue\n",
      "               (NegValue\n",
      "                  (Constant 100000000))))\n",
      "         (Pay Address \"addr_test1vqwt2xlr4d8yk4qws675exlqy6pdhq2s76wrehkjggkvr0cerfe8r\"\n",
      "            (Party Address \"addr_test1vrnw6sc84eycd9j3jp0nfu7q2n8gxvze7wx7g5d8srhyr4qduxruz\")\n",
      "            (Token \"\" \"\")\n",
      "            (Constant 100000000)\n",
      "            (When [\n",
      "               (Case\n",
      "                  (Deposit Address \"addr_test1vrnw6sc84eycd9j3jp0nfu7q2n8gxvze7wx7g5d8srhyr4qduxruz\" Address \"addr_test1vrnw6sc84eycd9j3jp0nfu7q2n8gxvze7wx7g5d8srhyr4qduxruz\"\n",
      "                     (Token \"\" \"\")\n",
      "                     (Constant 2000000))\n",
      "                  (Pay Address \"addr_test1vrnw6sc84eycd9j3jp0nfu7q2n8gxvze7wx7g5d8srhyr4qduxruz\"\n",
      "                     (Party Address \"addr_test1vqwt2xlr4d8yk4qws675exlqy6pdhq2s76wrehkjggkvr0cerfe8r\")\n",
      "                     (Token \"\" \"\")\n",
      "                     (Constant 2000000)\n",
      "                     (When [\n",
      "                        (Case\n",
      "                           (Deposit Address \"addr_test1vrnw6sc84eycd9j3jp0nfu7q2n8gxvze7wx7g5d8srhyr4qduxruz\" Address \"addr_test1vrnw6sc84eycd9j3jp0nfu7q2n8gxvze7wx7g5d8srhyr4qduxruz\"\n",
      "                              (Token \"\" \"\")\n",
      "                              (Constant 100000000))\n",
      "                           (Pay Address \"addr_test1vrnw6sc84eycd9j3jp0nfu7q2n8gxvze7wx7g5d8srhyr4qduxruz\"\n",
      "                              (Party Address \"addr_test1vqwt2xlr4d8yk4qws675exlqy6pdhq2s76wrehkjggkvr0cerfe8r\")\n",
      "                              (Token \"\" \"\")\n",
      "                              (Constant 100000000) Close))] 1704067200000 Close)))] 1704067200000 Close)))] 1672531200000 Close\n",
      "\n",
      "\u001b[93mtransaction a244dbed33d04efd7cc20d85bde1633e04e2e981802036d10033ad480a09e9fe\n",
      "\u001b[0mContractId: 54f75925a350a9cf80ff8d917b94826ab5747a126d670fa1fb4bdf4298bdd219#1\n",
      "SlotNo:     6922389\n",
      "BlockNo:    320097\n",
      "BlockId:    9b6cb2f4942c55fe33cb8fba7e5d13d8e672cb55f32252ffced3dcb5b0dc9f4f\n",
      "Inputs:     [NormalInput (IDeposit \"\\\"addr_test1vqwt2xlr4d8yk4qws675exlqy6pdhq2s76wrehkjggkvr0cerfe8r\\\"\" \"\\\"addr_test1vqwt2xlr4d8yk4qws675exlqy6pdhq2s76wrehkjggkvr0cerfe8r\\\"\" (Token \"\" \"\") 100000000)]\n",
      "\n",
      "    When [\n",
      "      (Case\n",
      "         (Deposit Address \"addr_test1vrnw6sc84eycd9j3jp0nfu7q2n8gxvze7wx7g5d8srhyr4qduxruz\" Address \"addr_test1vrnw6sc84eycd9j3jp0nfu7q2n8gxvze7wx7g5d8srhyr4qduxruz\"\n",
      "            (Token \"\" \"\")\n",
      "            (Constant 2000000))\n",
      "         (Pay Address \"addr_test1vrnw6sc84eycd9j3jp0nfu7q2n8gxvze7wx7g5d8srhyr4qduxruz\"\n",
      "            (Party Address \"addr_test1vqwt2xlr4d8yk4qws675exlqy6pdhq2s76wrehkjggkvr0cerfe8r\")\n",
      "            (Token \"\" \"\")\n",
      "            (Constant 2000000)\n",
      "            (When [\n",
      "               (Case\n",
      "                  (Deposit Address \"addr_test1vrnw6sc84eycd9j3jp0nfu7q2n8gxvze7wx7g5d8srhyr4qduxruz\" Address \"addr_test1vrnw6sc84eycd9j3jp0nfu7q2n8gxvze7wx7g5d8srhyr4qduxruz\"\n",
      "                     (Token \"\" \"\")\n",
      "                     (Constant 100000000))\n",
      "                  (Pay Address \"addr_test1vrnw6sc84eycd9j3jp0nfu7q2n8gxvze7wx7g5d8srhyr4qduxruz\"\n",
      "                     (Party Address \"addr_test1vqwt2xlr4d8yk4qws675exlqy6pdhq2s76wrehkjggkvr0cerfe8r\")\n",
      "                     (Token \"\" \"\")\n",
      "                     (Constant 100000000) Close))] 1704067200000 Close)))] 1704067200000 Close\n",
      "\n",
      "\u001b[93mtransaction c95e11ec5370a2c0e0d77356e54e9dfdea10bbc18a0097f5f3c40a27ce2f9c30\n",
      "\u001b[0mContractId: 54f75925a350a9cf80ff8d917b94826ab5747a126d670fa1fb4bdf4298bdd219#1\n",
      "SlotNo:     6922414\n",
      "BlockNo:    320098\n",
      "BlockId:    7d1966e36ec7da2b2926ae489b606061a2f59e2ea38cf6b9ffcd5aadcf9f954a\n",
      "Inputs:     [NormalInput (IDeposit \"\\\"addr_test1vrnw6sc84eycd9j3jp0nfu7q2n8gxvze7wx7g5d8srhyr4qduxruz\\\"\" \"\\\"addr_test1vrnw6sc84eycd9j3jp0nfu7q2n8gxvze7wx7g5d8srhyr4qduxruz\\\"\" (Token \"\" \"\") 2000000)]\n",
      "\n",
      "    When [\n",
      "      (Case\n",
      "         (Deposit Address \"addr_test1vrnw6sc84eycd9j3jp0nfu7q2n8gxvze7wx7g5d8srhyr4qduxruz\" Address \"addr_test1vrnw6sc84eycd9j3jp0nfu7q2n8gxvze7wx7g5d8srhyr4qduxruz\"\n",
      "            (Token \"\" \"\")\n",
      "            (Constant 100000000))\n",
      "         (Pay Address \"addr_test1vrnw6sc84eycd9j3jp0nfu7q2n8gxvze7wx7g5d8srhyr4qduxruz\"\n",
      "            (Party Address \"addr_test1vqwt2xlr4d8yk4qws675exlqy6pdhq2s76wrehkjggkvr0cerfe8r\")\n",
      "            (Token \"\" \"\")\n",
      "            (Constant 100000000) Close))] 1704067200000 Close\n",
      "\n",
      "\u001b[93mtransaction 5f399752c56bb5f335ec7a590d9018d50d23bcdbe173911e364da58e30ca16a3 (close)\n",
      "\u001b[0mContractId: 54f75925a350a9cf80ff8d917b94826ab5747a126d670fa1fb4bdf4298bdd219#1\n",
      "SlotNo:     6922431\n",
      "BlockNo:    320099\n",
      "BlockId:    a484733eaf37997c3c7bc5a1572cae001b50842cbd037852cd73bb269f63c08b\n",
      "Inputs:     [NormalInput (IDeposit \"\\\"addr_test1vrnw6sc84eycd9j3jp0nfu7q2n8gxvze7wx7g5d8srhyr4qduxruz\\\"\" \"\\\"addr_test1vrnw6sc84eycd9j3jp0nfu7q2n8gxvze7wx7g5d8srhyr4qduxruz\\\"\" (Token \"\" \"\") 100000000)]\n",
      "\n",
      "\n"
     ]
    }
   ],
   "source": [
    "marlowe log --show-contract \"$CONTRACT_ID\""
   ]
  },
  {
   "cell_type": "markdown",
   "id": "86585e47-22db-46db-94a6-80b4a00b2147",
   "metadata": {},
   "source": [
    "## Cleanup\n",
    "\n",
    "Remove the contract from history tracking. See the [help page](marlowe/rm.md) for more information on the `marlowe rm` command."
   ]
  },
  {
   "cell_type": "code",
   "execution_count": 44,
   "id": "eea2d290-46e0-4a5c-a587-f0dd4afda600",
   "metadata": {},
   "outputs": [
    {
     "name": "stdout",
     "output_type": "stream",
     "text": [
      "54f75925a350a9cf80ff8d917b94826ab5747a126d670fa1fb4bdf4298bdd219#1\n"
     ]
    }
   ],
   "source": [
    "marlowe rm \"$CONTRACT_ID\""
   ]
  },
  {
   "cell_type": "code",
   "execution_count": 45,
   "id": "cca2e9c5-d78b-4207-b599-feca36afb4c6",
   "metadata": {},
   "outputs": [],
   "source": [
    "marlowe ls"
   ]
  }
 ],
 "metadata": {
  "kernelspec": {
   "display_name": "Bash - Marlowe",
   "language": "bash",
   "name": "bash_marlowe"
  },
  "language_info": {
   "codemirror_mode": "shell",
   "file_extension": ".sh",
   "mimetype": "text/x-sh",
   "name": "/nix/store/l0wlqpbsvh1pgvhcdhw7qkka3d31si7k-bash-5.1-p8/bin/bash"
  }
 },
 "nbformat": 4,
 "nbformat_minor": 5
}
