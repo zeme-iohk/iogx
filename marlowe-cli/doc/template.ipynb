{
 "cells": [
  {
   "cell_type": "markdown",
   "id": "a47ddf0b-9166-4f27-9c2e-9ab138ca5583",
   "metadata": {},
   "source": [
    "# Marlowe CLI `template` Subcommands\n",
    "\n",
    "The `marlowe-cli template` command generates contract and state files for example Marlowe contracts."
   ]
  },
  {
   "cell_type": "markdown",
   "id": "a671b451-8d56-4028-837d-3ea33e232bf0",
   "metadata": {},
   "source": [
    "## Contents\n",
    "\n",
    "*   [Simple](#simple)\n",
    "*   [Swap](#swap)\n",
    "*   [Zero-coupon bond](#zero-coupon-bond)\n",
    "*   [Escrow](#escrow)\n",
    "*   [Covered call](#covered-call)"
   ]
  },
  {
   "cell_type": "markdown",
   "id": "11438aa4-a65b-4c38-b893-785a52d8a381",
   "metadata": {},
   "source": [
    "## Available Commands"
   ]
  },
  {
   "cell_type": "code",
   "execution_count": 1,
   "id": "1c249039-8f16-4c35-8e04-5076bd7c0b3e",
   "metadata": {},
   "outputs": [
    {
     "name": "stdout",
     "output_type": "stream",
     "text": [
      "Usage: marlowe-cli template COMMAND --out-contract-file CONTRACT_FILE\n",
      "                            --out-state-file STATE_FILE\n",
      "\n",
      "  Create a contract from a template.\n",
      "\n",
      "Available options:\n",
      "  --out-contract-file CONTRACT_FILE\n",
      "                           JSON output file for the contract.\n",
      "  --out-state-file STATE_FILE\n",
      "                           JSON output file for the contract's state.\n",
      "  -h,--help                Show this help text\n",
      "\n",
      "Commands for creating Marlowe contracts from templates:\n",
      "  escrow                   Create an escrow contract.\n",
      "  simple                   Create a simple example contract.\n",
      "  swap                     Create a swap contract.\n",
      "  zcb                      Create a zero-coupon bond.\n",
      "  coveredCall              Create a covered call Option.\n",
      "  actus                    Create an Actus contract.\n"
     ]
    }
   ],
   "source": [
    "marlowe-cli template --help"
   ]
  },
  {
   "cell_type": "markdown",
   "id": "7c3ee83a-891b-43b1-9af6-ffc3a144da3c",
   "metadata": {},
   "source": [
    "## Simple"
   ]
  },
  {
   "cell_type": "code",
   "execution_count": 2,
   "id": "6384f507-59d4-48c5-9e3e-f0a78b420b5a",
   "metadata": {},
   "outputs": [
    {
     "name": "stdout",
     "output_type": "stream",
     "text": [
      "Usage: marlowe-cli template simple --bystander PARTY --minimum-ada INTEGER\n",
      "                                   --party PARTY --deposit-lovelace INTEGER\n",
      "                                   --withdrawal-lovelace INTEGER\n",
      "                                   --timeout TIMEOUT\n",
      "\n",
      "  Create a simple example contract.\n",
      "\n",
      "Available options:\n",
      "  --bystander PARTY        The party providing the min-ADA.\n",
      "  --minimum-ada INTEGER    Lovelace in the initial state.\n",
      "  --party PARTY            The party.\n",
      "  --deposit-lovelace INTEGER\n",
      "                           Lovelace in the deposit.\n",
      "  --withdrawal-lovelace INTEGER\n",
      "                           Lovelace in the withdrawal.\n",
      "  --timeout TIMEOUT        The timeout. POSIX milliseconds or duration:\n",
      "                           `INTEGER[s|m|d|w|h]`.\n",
      "  -h,--help                Show this help text\n"
     ]
    }
   ],
   "source": [
    "marlowe-cli template simple --help"
   ]
  },
  {
   "cell_type": "markdown",
   "id": "a4166403-af06-46b4-9127-d072cbc2c3ae",
   "metadata": {},
   "source": [
    "### Example\n",
    "\n",
    "Create a simple contract as [simple-1.contract](simple-1.contract) with initial state [simple-1.state](simple-1.state)"
   ]
  },
  {
   "cell_type": "code",
   "execution_count": 3,
   "id": "63fe406e-a971-40e9-aabf-72de4250a3cc",
   "metadata": {},
   "outputs": [],
   "source": [
    "marlowe-cli template simple --minimum-ada 3000000 \\\n",
    "                            --deposit-lovelace 12000000 \\\n",
    "                            --withdrawal-lovelace 5000000 \\\n",
    "                            --timeout 1655663505000 \\\n",
    "                            --party addr_test1vq9prvx8ufwutkwxx9cmmuuajaqmjqwujqlp9d8pvg6gupczgtm9j \\\n",
    "                            --bystander addr_test1qp2l7afky3eqfkrht5f3qgy7x2yek5dejcnpnuqlwywz9twr7cz4mu6gh005gdck67p7y9d8s8zsfgjkcdy75mrjh6jqp8jwfw \\\n",
    "                            --out-contract-file simple-1.contract \\\n",
    "                            --out-state-file simple-1.state"
   ]
  },
  {
   "cell_type": "markdown",
   "id": "a1c45564-0db1-4edb-97c6-e0523c9d8bbf",
   "metadata": {},
   "source": [
    "## Swap"
   ]
  },
  {
   "cell_type": "code",
   "execution_count": 4,
   "id": "c1d8e1a1-23a3-47d2-b98a-52809f47cf11",
   "metadata": {},
   "outputs": [
    {
     "name": "stdout",
     "output_type": "stream",
     "text": [
      "Usage: marlowe-cli template swap --minimum-ada INTEGER --a-party PARTY\n",
      "                                 --a-token TOKEN --a-amount INTEGER\n",
      "                                 --a-timeout TIMEOUT --b-party PARTY\n",
      "                                 --b-token TOKEN --b-amount INTEGER\n",
      "                                 --b-timeout TIMEOUT\n",
      "\n",
      "  Create a swap contract.\n",
      "\n",
      "Available options:\n",
      "  --minimum-ada INTEGER    Lovelace that the first party contributes to the\n",
      "                           initial state.\n",
      "  --a-party PARTY          The first party.\n",
      "  --a-token TOKEN          The first party's token.\n",
      "  --a-amount INTEGER       The amount of the first party's token.\n",
      "  --a-timeout TIMEOUT      The timeout for the first party's deposit. POSIX\n",
      "                           milliseconds or duration: `INTEGER[s|m|d|w|h]`.\n",
      "  --b-party PARTY          The second party.\n",
      "  --b-token TOKEN          The second party's token.\n",
      "  --b-amount INTEGER       The amount of the second party's token.\n",
      "  --b-timeout TIMEOUT      The timeout for the second party's deposit. POSIX\n",
      "                           milliseconds or duration: `INTEGER[s|m|d|w|h]`.\n",
      "  -h,--help                Show this help text\n"
     ]
    }
   ],
   "source": [
    "marlowe-cli template swap --help"
   ]
  },
  {
   "cell_type": "markdown",
   "id": "b41422f4-c25b-4c7d-a23a-e69fdfbb46b9",
   "metadata": {},
   "source": [
    "### Example\n",
    "\n",
    "Create a swap contract [swap-1.contract](swap-1.contract) with initial state [swap-1.state](swap-1.state)."
   ]
  },
  {
   "cell_type": "code",
   "execution_count": 5,
   "id": "a15d19f2-6a9c-4921-bbbd-de50ce9a1cc0",
   "metadata": {},
   "outputs": [],
   "source": [
    "marlowe-cli template swap --minimum-ada 3000000 \\\n",
    "                          --a-party addr_test1vq9prvx8ufwutkwxx9cmmuuajaqmjqwujqlp9d8pvg6gupczgtm9j \\\n",
    "                          --a-token d537d311e915c4d815607ead0bcd5880807895871ce9be7c1eaf72a6.Globe \\\n",
    "                          --a-amount 300 \\\n",
    "                          --a-timeout 1655621320000 \\\n",
    "                          --b-party addr_test1qp2l7afky3eqfkrht5f3qgy7x2yek5dejcnpnuqlwywz9twr7cz4mu6gh005gdck67p7y9d8s8zsfgjkcdy75mrjh6jqp8jwfw \\\n",
    "                          --b-token  ffd80473e79426fef5de6c124369bb96a67a8b5814211009354e311e.Swan\\\n",
    "                          --b-amount 500 \\\n",
    "                          --b-timeout 1655664520000 \\\n",
    "                          --out-contract-file swap-1.contract \\\n",
    "                          --out-state-file swap-1.state"
   ]
  },
  {
   "cell_type": "markdown",
   "id": "b0437fc7-f0bb-4884-a6a8-eec09370425a",
   "metadata": {},
   "source": [
    "## Zero-Coupon Bond"
   ]
  },
  {
   "cell_type": "code",
   "execution_count": 6,
   "id": "65fe9b2d-e22b-464e-92a0-a34b9419cc79",
   "metadata": {},
   "outputs": [
    {
     "name": "stdout",
     "output_type": "stream",
     "text": [
      "Usage: marlowe-cli template zcb --minimum-ada INTEGER --lender PARTY\n",
      "                                --borrower PARTY --principal INTEGER\n",
      "                                --interest INTEGER --lending-deadline TIMEOUT\n",
      "                                --repayment-deadline TIMEOUT\n",
      "\n",
      "  Create a zero-coupon bond.\n",
      "\n",
      "Available options:\n",
      "  --minimum-ada INTEGER    Lovelace that the lender contributes to the initial\n",
      "                           state.\n",
      "  --lender PARTY           The lender.\n",
      "  --borrower PARTY         The borrower.\n",
      "  --principal INTEGER      The principal, in lovelace.\n",
      "  --interest INTEGER       The interest, in lovelace.\n",
      "  --lending-deadline TIMEOUT\n",
      "                           The lending deadline. POSIX milliseconds or duration:\n",
      "                           `INTEGER[s|m|d|w|h]`.\n",
      "  --repayment-deadline TIMEOUT\n",
      "                           The repayment deadline. POSIX milliseconds or\n",
      "                           duration: `INTEGER[s|m|d|w|h]`.\n",
      "  -h,--help                Show this help text\n"
     ]
    }
   ],
   "source": [
    "marlowe-cli template zcb --help"
   ]
  },
  {
   "cell_type": "markdown",
   "id": "9814513b-1bb4-4159-a672-cfc0505dc34b",
   "metadata": {},
   "source": [
    "### Example\n",
    "\n",
    "Create a zero-coupon bond contract [zcb-1.contract](zcb-1.contract) with initial state [zcb-1.state](zcb-1.state)."
   ]
  },
  {
   "cell_type": "code",
   "execution_count": 7,
   "id": "31a37bd7-26f4-4ddd-a13a-35888b5142b2",
   "metadata": {},
   "outputs": [],
   "source": [
    "marlowe-cli template zcb --minimum-ada 3000000 \\\n",
    "                         --lender JF \\\n",
    "                         --borrower TM \\\n",
    "                         --principal 100000000 \\\n",
    "                         --interest 5000000 \\\n",
    "                         --lending-deadline 1655621700000 \\\n",
    "                         --repayment-deadline 1655664900000 \\\n",
    "                         --out-contract-file zcb-1.contract \\\n",
    "                         --out-state-file zcb-1.state"
   ]
  },
  {
   "cell_type": "markdown",
   "id": "94fe4d8f-ea83-4091-be81-940a19e5c612",
   "metadata": {},
   "source": [
    "# Escrow"
   ]
  },
  {
   "cell_type": "code",
   "execution_count": 8,
   "id": "c96fe701-c77f-4fff-ac41-0e9bec80c69b",
   "metadata": {},
   "outputs": [
    {
     "name": "stdout",
     "output_type": "stream",
     "text": [
      "Usage: marlowe-cli template escrow --minimum-ada INTEGER --price INTEGER\n",
      "                                   --seller PARTY --buyer PARTY --mediator PARTY\n",
      "                                   --payment-deadline TIMEOUT\n",
      "                                   --complaint-deadline TIMEOUT\n",
      "                                   --dispute-deadline TIMEOUT\n",
      "                                   --mediation-deadline TIMEOUT\n",
      "\n",
      "  Create an escrow contract.\n",
      "\n",
      "Available options:\n",
      "  --minimum-ada INTEGER    Lovelace in the initial state.\n",
      "  --price INTEGER          The price of the sale, in lovelace.\n",
      "  --seller PARTY           The seller.\n",
      "  --buyer PARTY            The buyer.\n",
      "  --mediator PARTY         The mediator.\n",
      "  --payment-deadline TIMEOUT\n",
      "                           The deadline for the buyer to pay. POSIX milliseconds\n",
      "                           or duration: `INTEGER[s|m|d|w|h]`.\n",
      "  --complaint-deadline TIMEOUT\n",
      "                           The deadline for the buyer to complain. POSIX\n",
      "                           milliseconds or duration: `INTEGER[s|m|d|w|h]`.\n",
      "  --dispute-deadline TIMEOUT\n",
      "                           The deadline for the seller to dispute a complaint.\n",
      "                           POSIX milliseconds or duration: `INTEGER[s|m|d|w|h]`.\n",
      "  --mediation-deadline TIMEOUT\n",
      "                           The deadline for the mediator to decide. POSIX\n",
      "                           milliseconds or duration: `INTEGER[s|m|d|w|h]`.\n",
      "  -h,--help                Show this help text\n"
     ]
    }
   ],
   "source": [
    "marlowe-cli template escrow --help"
   ]
  },
  {
   "cell_type": "markdown",
   "id": "177ab4f6-f498-4df7-a4f3-6f5364069c53",
   "metadata": {},
   "source": [
    "### Example\n",
    "\n",
    "Create an escrow contract [escrow-1.contract](escrow-1.contract) with initial state [escrow-1.state](escrow-1.state)."
   ]
  },
  {
   "cell_type": "code",
   "execution_count": 9,
   "id": "22c29da4-ab6a-461d-b434-77cbd7294816",
   "metadata": {},
   "outputs": [],
   "source": [
    "marlowe-cli template escrow --minimum-ada 3000000 \\\n",
    "                            --price 256000000 \\\n",
    "                            --seller FB \\\n",
    "                            --buyer TM \\\n",
    "                            --mediator CM \\\n",
    "                            --payment-deadline 1655664900000 \\\n",
    "                            --complaint-deadline 1655751300000 \\\n",
    "                            --dispute-deadline 1655837700000 \\\n",
    "                            --mediation-deadline 1655924100000 \\\n",
    "                            --out-contract-file escrow-1.contract \\\n",
    "                            --out-state-file escrow-1.state"
   ]
  },
  {
   "cell_type": "markdown",
   "id": "334842d5-3779-46fe-8075-2eef9f1ef35a",
   "metadata": {},
   "source": [
    "##  Covered Call"
   ]
  },
  {
   "cell_type": "code",
   "execution_count": 10,
   "id": "f43fc4fe-9ce0-4096-9e7c-a2d47feea232",
   "metadata": {},
   "outputs": [
    {
     "name": "stdout",
     "output_type": "stream",
     "text": [
      "Usage: marlowe-cli template coveredCall \n",
      "         --minimum-ada INTEGER --issuer PARTY --counter-party PARTY\n",
      "         --currency TOKEN --underlying TOKEN --strike INTEGER --amount INTEGER\n",
      "         --issue-date TIMEOUT --maturity-date TIMEOUT --settlement-date TIMEOUT\n",
      "\n",
      "  Create a covered call Option.\n",
      "\n",
      "Available options:\n",
      "  --minimum-ada INTEGER    Lovelace that the lender contributes to the initial\n",
      "                           state.\n",
      "  --issuer PARTY           The issuer.\n",
      "  --counter-party PARTY    The counter-party.\n",
      "  --currency TOKEN         The curreny.\n",
      "  --underlying TOKEN       The underlying asset.\n",
      "  --strike INTEGER         The strike, in currency.\n",
      "  --amount INTEGER         The amount of underlying\n",
      "  --issue-date TIMEOUT     The issue date. POSIX milliseconds or duration:\n",
      "                           `INTEGER[s|m|d|w|h]`.\n",
      "  --maturity-date TIMEOUT  The maturity date. POSIX milliseconds or duration:\n",
      "                           `INTEGER[s|m|d|w|h]`.\n",
      "  --settlement-date TIMEOUT\n",
      "                           The settlement date. POSIX milliseconds or duration:\n",
      "                           `INTEGER[s|m|d|w|h]`.\n",
      "  -h,--help                Show this help text\n"
     ]
    }
   ],
   "source": [
    "marlowe-cli template coveredCall --help"
   ]
  },
  {
   "cell_type": "markdown",
   "id": "9f2ca546-a794-480a-99df-8ea7b55e80d1",
   "metadata": {},
   "source": [
    "### Example\n",
    "\n",
    "Create a covered call contract [covered-1.contract](covered-1.contract) with initial state [covered-1.state](covered-1.state)."
   ]
  },
  {
   "cell_type": "code",
   "execution_count": 11,
   "id": "004c08f4-914a-463c-aca9-2c37626a3a69",
   "metadata": {},
   "outputs": [],
   "source": [
    "marlowe-cli template coveredCall --minimum-ada 3000000 \\\n",
    "                                 --issuer addr_test1vq9prvx8ufwutkwxx9cmmuuajaqmjqwujqlp9d8pvg6gupczgtm9j \\\n",
    "                                 --counter-party addr_test1qp2l7afky3eqfkrht5f3qgy7x2yek5dejcnpnuqlwywz9twr7cz4mu6gh005gdck67p7y9d8s8zsfgjkcdy75mrjh6jqp8jwfw \\\n",
    "                                 --currency 02332a91ff02a6801a5cc34ad6c4f15a77ac70348f8e305e6ae97659.Swan \\\n",
    "                                 --underlying 48a6526d690a0e5258d6b883507f540cf6e2348596aa03d754753423.Globe \\\n",
    "                                 --strike 500 \\\n",
    "                                 --amount 300 \\\n",
    "                                 --issue-date 1655596500000 \\\n",
    "                                 --maturity-date 1655578500000 \\\n",
    "                                 --settlement-date 1655621700000 \\\n",
    "                                 --out-contract-file covered-1.contract \\\n",
    "                                 --out-state-file covered-1.state"
   ]
  }
 ],
 "metadata": {
  "kernelspec": {
   "display_name": "Bash - Marlowe",
   "language": "bash",
   "name": "bash_marlowe"
  },
  "language_info": {
   "codemirror_mode": "shell",
   "file_extension": ".sh",
   "mimetype": "text/x-sh",
   "name": "/nix/store/zwjm0gln1vk7x1akpyz0yxjsd1yc46gi-bash-5.1-p16/bin/bash"
  }
 },
 "nbformat": 4,
 "nbformat_minor": 5
}
