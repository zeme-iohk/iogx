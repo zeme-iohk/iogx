{
 "cells": [
  {
   "cell_type": "markdown",
   "id": "dc1f2a7f-5274-45ac-9fd0-dd7d4b51418a",
   "metadata": {},
   "source": [
    "# Marlowe CLI `role` Subcommands\n",
    "\n",
    "The `marlowe-cli role` commands provide low-level access to the Plutus mechanics of Marlowe payouts: script address, validator, datum, and redeemer."
   ]
  },
  {
   "cell_type": "markdown",
   "id": "2c53eeff-efaf-4125-be80-4761ad2f421b",
   "metadata": {},
   "source": [
    "## Contents\n",
    "\n",
    "*   [Address](#address)\n",
    "*   [Datum](#datum)\n",
    "*   [Redeemer](#redeemer)\n",
    "*   [Validator](#validator)"
   ]
  },
  {
   "cell_type": "markdown",
   "id": "520f8049-f407-4b0e-8469-60a41fe2bde6",
   "metadata": {},
   "source": [
    "## Available Commands"
   ]
  },
  {
   "cell_type": "code",
   "execution_count": 1,
   "id": "225e2422-e101-4108-84fa-bf0904403067",
   "metadata": {},
   "outputs": [
    {
     "name": "stdout",
     "output_type": "stream",
     "text": [
      "Usage: marlowe-cli role COMMAND\n",
      "\n",
      "  Export role address, validator, datum, or redeemer.\n",
      "\n",
      "Available options:\n",
      "  -h,--help                Show this help text\n",
      "\n",
      "Low-level commands for exporting Marlowe role information:\n",
      "  address                  Print a role validator address.\n",
      "  datum                    Export a role datum to a JSON file.\n",
      "  redeemer                 Export a role redeemer to a JSON file.\n",
      "  validator                Export a role validator to a JSON file.\n"
     ]
    }
   ],
   "source": [
    "marlowe-cli role --help"
   ]
  },
  {
   "cell_type": "markdown",
   "id": "a843efb1-fb63-4487-bd4e-dcd0d43808bf",
   "metadata": {},
   "source": [
    "## Address"
   ]
  },
  {
   "cell_type": "code",
   "execution_count": 2,
   "id": "cae10a6a-a944-411c-8767-553d925f201a",
   "metadata": {},
   "outputs": [
    {
     "name": "stdout",
     "output_type": "stream",
     "text": [
      "Usage: marlowe-cli role address --testnet-magic INTEGER \n",
      "                                [--stake-address ADDRESS]\n",
      "\n",
      "  Print a role validator address.\n",
      "\n",
      "Available options:\n",
      "  --testnet-magic INTEGER  Network magic. Defaults to the CARDANO_TESTNET_MAGIC\n",
      "                           environment variable's value.\n",
      "  --stake-address ADDRESS  Stake address, if any.\n",
      "  -h,--help                Show this help text\n"
     ]
    }
   ],
   "source": [
    "marlowe-cli role address --help"
   ]
  },
  {
   "cell_type": "markdown",
   "id": "62ea8a5d-9c9c-43ca-b364-dcb8a29f9b81",
   "metadata": {},
   "source": [
    "### Example\n",
    "\n",
    "Compute the Marlowe payout script address for a particular roles currency."
   ]
  },
  {
   "cell_type": "code",
   "execution_count": 3,
   "id": "39102970-9245-4a76-92ea-ae7ccc5879d8",
   "metadata": {},
   "outputs": [
    {
     "name": "stdout",
     "output_type": "stream",
     "text": [
      "addr_test1wpkmnxz4aylglk57j9mf90r5dj0kmde7n6frfgatam4fw8qyrah58\n"
     ]
    }
   ],
   "source": [
    "marlowe-cli role address --testnet-magic 1566"
   ]
  },
  {
   "cell_type": "markdown",
   "id": "67c8b770-452b-4329-983b-6d743b95c935",
   "metadata": {},
   "source": [
    "## Datum"
   ]
  },
  {
   "cell_type": "code",
   "execution_count": 4,
   "id": "66762d26-5b48-4d29-b534-177a25959d71",
   "metadata": {},
   "outputs": [
    {
     "name": "stdout",
     "output_type": "stream",
     "text": [
      "Usage: marlowe-cli role datum --roles-currency CURRENCY_SYMBOL\n",
      "                              --role-name TOKEN_NAME [--out-file DATUM_FILE] \n",
      "                              [--print-stats]\n",
      "\n",
      "  Export a role datum to a JSON file.\n",
      "\n",
      "Available options:\n",
      "  --roles-currency CURRENCY_SYMBOL\n",
      "                           The currency symbol for roles.\n",
      "  --role-name TOKEN_NAME   The role name for the datum.\n",
      "  --out-file DATUM_FILE    JSON output file for datum.\n",
      "  --print-stats            Print statistics.\n",
      "  -h,--help                Show this help text\n"
     ]
    }
   ],
   "source": [
    "marlowe-cli role datum --help"
   ]
  },
  {
   "cell_type": "markdown",
   "id": "062a0060-ebe8-4810-afaa-3fc5cd8c611c",
   "metadata": {},
   "source": [
    "### Example\n",
    "\n",
    "This invocation of `marlowe-cli role datum` takes the role name as input and it outputs the corresponding Plutus datum file [role-1.datum](role-1.datum)."
   ]
  },
  {
   "cell_type": "code",
   "execution_count": 5,
   "id": "7cd22eab-8656-4901-8373-1f213f2964ae",
   "metadata": {},
   "outputs": [
    {
     "name": "stdout",
     "output_type": "stream",
     "text": [
      "aa3d5af65e9238031f51a84e96280d59d4b1dbcb4fc7c4b934c2a7348715a8d8\n",
      "\n",
      "Datum size: 56\n"
     ]
    }
   ],
   "source": [
    "marlowe-cli role datum --roles-currency d0e2ebf0a20c10d870d447854d178b2b0928ae1ce8661a01acfc662f \\\n",
    "                       --role-name 'Christopher Marlowe' \\\n",
    "                       --out-file role-1.datum \\\n",
    "                       --print-stats"
   ]
  },
  {
   "cell_type": "code",
   "execution_count": 6,
   "id": "4f91e26a-9a33-4d36-86ba-53794ef2ff08",
   "metadata": {},
   "outputs": [
    {
     "name": "stdout",
     "output_type": "stream",
     "text": [
      "constructor: 0\n",
      "fields:\n",
      "- bytes: d0e2ebf0a20c10d870d447854d178b2b0928ae1ce8661a01acfc662f\n",
      "- bytes: 4368726973746f70686572204d61726c6f7765\n"
     ]
    }
   ],
   "source": [
    "json2yaml role-1.datum"
   ]
  },
  {
   "cell_type": "markdown",
   "id": "256564e6-c9ec-4d7f-95d5-c626a77f335c",
   "metadata": {},
   "source": [
    "## Redeemer"
   ]
  },
  {
   "cell_type": "code",
   "execution_count": 7,
   "id": "b36b3d9e-b93a-4b05-b3b8-7341bf0f41f9",
   "metadata": {},
   "outputs": [
    {
     "name": "stdout",
     "output_type": "stream",
     "text": [
      "Usage: marlowe-cli role redeemer [--out-file OUTPUT_FILE] [--print-stats]\n",
      "\n",
      "  Export a role redeemer to a JSON file.\n",
      "\n",
      "Available options:\n",
      "  --out-file OUTPUT_FILE   JSON output file for redeemer.\n",
      "  --print-stats            Print statistics.\n",
      "  -h,--help                Show this help text\n"
     ]
    }
   ],
   "source": [
    "marlowe-cli role redeemer --help"
   ]
  },
  {
   "cell_type": "markdown",
   "id": "febd3342-5587-468b-8566-cfcfdaa8fdd6",
   "metadata": {},
   "source": [
    "### Example\n",
    "\n",
    "This invocation of `marlowe-cli role redeemer` outputs the corresponding Plutus role-payout redeemer [role-1.redeemer](role-1.redeemer)."
   ]
  },
  {
   "cell_type": "code",
   "execution_count": 8,
   "id": "a6a1dc62-993f-4c0e-a192-62a61b1b6296",
   "metadata": {},
   "outputs": [
    {
     "name": "stdout",
     "output_type": "stream",
     "text": [
      "\n",
      "Redeemer size: 5\n"
     ]
    }
   ],
   "source": [
    "marlowe-cli role redeemer --out-file role-1.redeemer \\\n",
    "                          --print-stats"
   ]
  },
  {
   "cell_type": "code",
   "execution_count": 9,
   "id": "b30a8f3d-53b0-48e3-b266-7bebc461b605",
   "metadata": {},
   "outputs": [
    {
     "name": "stdout",
     "output_type": "stream",
     "text": [
      "constructor: 0\n",
      "fields: []\n"
     ]
    }
   ],
   "source": [
    "json2yaml role-1.redeemer"
   ]
  },
  {
   "cell_type": "markdown",
   "id": "64728c7a-d831-4bbb-9272-5c80cf970228",
   "metadata": {},
   "source": [
    "## Validator"
   ]
  },
  {
   "cell_type": "code",
   "execution_count": 10,
   "id": "df82cf90-9a51-43f7-8429-b9e18efd1667",
   "metadata": {},
   "outputs": [
    {
     "name": "stdout",
     "output_type": "stream",
     "text": [
      "Usage: marlowe-cli role validator --testnet-magic INTEGER \n",
      "                                  [--stake-address ADDRESS] \n",
      "                                  [--protocol-version PROTOCOL_VERSION] \n",
      "                                  [--out-file OUTPUT_FILE] [--print-hash] \n",
      "                                  [--print-stats]\n",
      "\n",
      "  Export a role validator to a JSON file.\n",
      "\n",
      "Available options:\n",
      "  --testnet-magic INTEGER  Network magic. Defaults to the CARDANO_TESTNET_MAGIC\n",
      "                           environment variable's value.\n",
      "  --stake-address ADDRESS  Stake address, if any.\n",
      "  --protocol-version PROTOCOL_VERSION\n",
      "                           Protocol version: [alonzo|vasil]\n",
      "  --out-file OUTPUT_FILE   JSON output file for validator.\n",
      "  --print-hash             Print validator hash.\n",
      "  --print-stats            Print statistics.\n",
      "  -h,--help                Show this help text\n"
     ]
    }
   ],
   "source": [
    "marlowe-cli role validator --help"
   ]
  },
  {
   "cell_type": "markdown",
   "id": "744a343d-8f46-4a7b-b2b2-d0f771d74dfc",
   "metadata": {},
   "source": [
    "### Example\n",
    "\n",
    "This invocation of `marlowe-cli role validator` computes the Marlowe payout Plutus script [role-1.plutus](role-1.plutus) for a particular roles currency."
   ]
  },
  {
   "cell_type": "code",
   "execution_count": 11,
   "id": "801d7afd-6db6-4118-b759-aa84c70a7cba",
   "metadata": {},
   "outputs": [
    {
     "name": "stdout",
     "output_type": "stream",
     "text": [
      "addr_test1wpkmnxz4aylglk57j9mf90r5dj0kmde7n6frfgatam4fw8qyrah58\n",
      "\n",
      "Validator size: 2627\n",
      "Bare-validator cost: ExBudget {exBudgetCPU = ExCPU 3680100, exBudgetMemory = ExMemory 16100}\n"
     ]
    }
   ],
   "source": [
    "marlowe-cli role validator --testnet-magic 1566 \\\n",
    "                           --out-file role-1.plutus \\\n",
    "                           --print-stats"
   ]
  },
  {
   "cell_type": "code",
   "execution_count": 12,
   "id": "85fd6ade-96b0-447e-bd9c-4cba1d2c7f43",
   "metadata": {},
   "outputs": [
    {
     "name": "stdout",
     "output_type": "stream",
     "text": [
      "{\n",
      "    \"type\": \"PlutusScriptV2\",\n",
      "    \"description\": \"\",\n",
      "    \"cborHex\": \"590a43590a40010000332323232323232323232323232323322323232323222223232533533300632323333573466e1cd55cea80124000466aa0226eb8d5d0a8011bae357426ae8940088c98c8070cd5ce00e80e00d09aab9e50011375400a6666ae68cdc39aab9d37540089000100d11931900d19ab9c01b01a0183333573466e1cd55cea80124000466442466002006004646464646464646464646464646666ae68cdc39aab9d500c480008cccccccccccc88888888888848cccccccccccc00403403002c02802402001c01801401000c008cd405805cd5d0a80619a80b00b9aba1500b33501601835742a014666aa034eb94064d5d0a804999aa80d3ae501935742a01066a02c0446ae85401cccd5406808dd69aba150063232323333573466e1cd55cea801240004664424660020060046464646666ae68cdc39aab9d5002480008cc8848cc00400c008cd40b5d69aba15002302e357426ae8940088c98c80c0cd5ce01881801709aab9e5001137540026ae854008c8c8c8cccd5cd19b8735573aa004900011991091980080180119a816bad35742a004605c6ae84d5d1280111931901819ab9c03103002e135573ca00226ea8004d5d09aba2500223263202c33573805a05805426aae7940044d"
     ]
    }
   ],
   "source": [
    "head -c 1000 role-1.plutus"
   ]
  }
 ],
 "metadata": {
  "kernelspec": {
   "display_name": "Bash - Marlowe",
   "language": "bash",
   "name": "bash_marlowe"
  },
  "language_info": {
   "codemirror_mode": "shell",
   "file_extension": ".sh",
   "mimetype": "text/x-sh",
   "name": "/nix/store/zwjm0gln1vk7x1akpyz0yxjsd1yc46gi-bash-5.1-p16/bin/bash"
  }
 },
 "nbformat": 4,
 "nbformat_minor": 5
}
