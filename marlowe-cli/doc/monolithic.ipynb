{
 "cells": [
  {
   "cell_type": "markdown",
   "id": "db386d23-5eb0-409f-9508-f48d689a10c8",
   "metadata": {},
   "source": [
    "# Example of Monolithic Low-Level Workflow with Marlowe CLI\n",
    "\n",
    "The monolithic workflow for `marlowe-cli` follows the data flow in the diagram below. The address, validator, datum, and redeemer for a transaction are built into one JSON file, and then extracted with `jq` for use with `cardano-cli`.\n",
    "\n",
    "![Marlowe workflow using `marlowe-cli`, `cardano-cli`, and `jq`.](diagrams/monolithic.svg)"
   ]
  },
  {
   "cell_type": "markdown",
   "id": "06697dda-a867-4bc5-b5c7-001d03256138",
   "metadata": {},
   "source": [
    "## 1. Select network.\n",
    "\n",
    "Make sure that `marlowe-cli`, `cardano-cli`, and `jq` have been installed on the path for the `bash` shell. Set the environment variable `CARDANO_NODE_SOCKET_PATH` to point to the location of the socket for the `cardano-node` service: see <https://developers.cardano.org/docs/get-started/running-cardano/#querying-the-cardano-blockchain>. In this tutorial, we use the public `testnet`:"
   ]
  },
  {
   "cell_type": "code",
   "execution_count": 1,
   "id": "ba5d0bc3-c852-4587-b0b8-48a5d65d7847",
   "metadata": {},
   "outputs": [],
   "source": [
    "MAGIC=2"
   ]
  },
  {
   "cell_type": "code",
   "execution_count": 2,
   "id": "57e1813f-a614-4981-a016-aedb9684da47",
   "metadata": {},
   "outputs": [],
   "source": [
    "export CARDANO_NODE_SOCKET_PATH=node.socket"
   ]
  },
  {
   "cell_type": "markdown",
   "id": "be518122-4b8b-4024-867a-0f0989aaf41d",
   "metadata": {},
   "source": [
    "## 2. Select wallet.\n",
    "\n",
    "Select a wallet for use in this tutorial and specify the files with the signing and payment keys. The address of this wallet is stored in the environment variable `ADDRESS_P`."
   ]
  },
  {
   "cell_type": "code",
   "execution_count": 3,
   "id": "e34426b4-c24b-478e-b111-a6212b058764",
   "metadata": {},
   "outputs": [],
   "source": [
    "PAYMENT_SKEY=path/to/payment.skey\n",
    "PAYMENT_VKEY=path/to/payment.vkey"
   ]
  },
  {
   "cell_type": "code",
   "execution_count": 4,
   "id": "cb55a5ca-a70c-41a7-80ae-9296e4f65cd9",
   "metadata": {},
   "outputs": [
    {
     "name": "stdout",
     "output_type": "stream",
     "text": [
      "addr_test1vq9prvx8ufwutkwxx9cmmuuajaqmjqwujqlp9d8pvg6gupczgtm9j\n"
     ]
    }
   ],
   "source": [
    "ADDRESS_P=$(cardano-cli address build --testnet-magic $MAGIC --payment-verification-key-file $PAYMENT_VKEY)\n",
    "echo $ADDRESS_P"
   ]
  },
  {
   "cell_type": "markdown",
   "id": "ad2aa39f-2148-46ff-aa69-87e4585c7191",
   "metadata": {},
   "source": [
    "## 3. Design the Marlowe contract.\n",
    "\n",
    "First, we choose names for the files containing the validator, datum, and redeemer."
   ]
  },
  {
   "cell_type": "code",
   "execution_count": 5,
   "id": "a87650ff-ae12-4211-94ef-1341159ff1f3",
   "metadata": {},
   "outputs": [],
   "source": [
    "MARLOWE_FILE=monolithic.marlowe\n",
    "PLUTUS_FILE=monolithic.plutus\n",
    "DATUM_FILE=monolithic.datum\n",
    "REDEEMER_FILE=monolithic.redeemer"
   ]
  },
  {
   "cell_type": "markdown",
   "id": "6b42253c-614b-4988-a9f4-f29e7b51d7eb",
   "metadata": {},
   "source": [
    "We just use the simplest contract, `Close`, which is serialised in [monolithic.contract](monolithic.contract). We use JSON files for the contract and its current state:"
   ]
  },
  {
   "cell_type": "code",
   "execution_count": 6,
   "id": "51b90dd9-9398-472d-9bc1-e3cd942a8dbf",
   "metadata": {},
   "outputs": [],
   "source": [
    "CONTRACT_FILE=monolithic.contract\n",
    "STATE_FILE=monolithic.state"
   ]
  },
  {
   "cell_type": "code",
   "execution_count": 7,
   "id": "011153fc-1723-4a18-80b5-c7bd2158f834",
   "metadata": {},
   "outputs": [
    {
     "name": "stdout",
     "output_type": "stream",
     "text": [
      "\"close\""
     ]
    }
   ],
   "source": [
    "cat monolithic.contract"
   ]
  },
  {
   "cell_type": "markdown",
   "id": "e4ba6867-3eea-4aa9-ab7b-3393560ee5ad",
   "metadata": {},
   "source": [
    "We will put 3 ADA into the account for the wallet, as recorded in the contract's state:"
   ]
  },
  {
   "cell_type": "code",
   "execution_count": 8,
   "id": "214e9fe2-ec79-401e-917d-59f313733a0d",
   "metadata": {},
   "outputs": [],
   "source": [
    "DATUM_LOVELACE=3000000"
   ]
  },
  {
   "cell_type": "code",
   "execution_count": 9,
   "id": "01a2d6de-e71a-408a-a238-91a3763d36f9",
   "metadata": {},
   "outputs": [],
   "source": [
    "cat << EOI > $STATE_FILE\n",
    "{\n",
    "  \"choices\": [],\n",
    "  \"accounts\": [\n",
    "    [\n",
    "      [\n",
    "        {\n",
    "          \"address\": \"$ADDRESS_P\"\n",
    "        },\n",
    "        {\n",
    "          \"currency_symbol\": \"\",\n",
    "          \"token_name\": \"\"\n",
    "        }\n",
    "      ],\n",
    "      $DATUM_LOVELACE\n",
    "    ]\n",
    "  ],\n",
    "  \"minTime\": 10,\n",
    "  \"boundValues\": []\n",
    "}\n",
    "EOI"
   ]
  },
  {
   "cell_type": "markdown",
   "id": "e5644722-f0b1-40ad-9770-6fd3ef3b229a",
   "metadata": {},
   "source": [
    "We will redeem the ADA within a particular range of slots:"
   ]
  },
  {
   "cell_type": "code",
   "execution_count": 10,
   "id": "28acca03-9735-4883-8954-336d7b91cbf4",
   "metadata": {},
   "outputs": [],
   "source": [
    "REDEEM_MIN_SLOT=3425000\n",
    "REDEEM_MAX_SLOT=3426000"
   ]
  },
  {
   "cell_type": "markdown",
   "id": "0cef9780-cf87-43c2-a5e5-88a9773eff7f",
   "metadata": {},
   "source": [
    "## 4. Create the validator, datum, and redeemer.\n",
    "\n",
    "We now create the Marlowe contract and transaction:"
   ]
  },
  {
   "cell_type": "code",
   "execution_count": 11,
   "id": "b4eec428-ee73-43b4-b40d-9f8c877053cf",
   "metadata": {},
   "outputs": [
    {
     "name": "stdout",
     "output_type": "stream",
     "text": [
      "\n",
      "Bare-validator cost: ExBudget {exBudgetCPU = ExCPU 18653100, exBudgetMemory = ExMemory 81200}\n",
      "Validator size: 12668\n",
      "Datum size: 85\n",
      "Redeemer size: 3\n",
      "Total size: 12756\n"
     ]
    }
   ],
   "source": [
    "marlowe-cli contract marlowe --testnet-magic $MAGIC         \\\n",
    "                             --contract-file $CONTRACT_FILE \\\n",
    "                             --state-file $STATE_FILE       \\\n",
    "                             --out-file $MARLOWE_FILE       \\\n",
    "                             --print-stats"
   ]
  },
  {
   "cell_type": "code",
   "execution_count": 12,
   "id": "1ae54e3d-5eb7-4530-a5b8-e8a98f6b46d4",
   "metadata": {},
   "outputs": [
    {
     "name": "stdout",
     "output_type": "stream",
     "text": [
      "\u001b[0;32m\"datum\"\u001b[0m\n",
      "\u001b[0;32m\"redeemer\"\u001b[0m\n",
      "\u001b[0;32m\"validator\"\u001b[0m\n"
     ]
    }
   ],
   "source": [
    "jq 'to_entries[] | .key' $MARLOWE_FILE"
   ]
  },
  {
   "cell_type": "markdown",
   "id": "eb1395a8-57a0-4d0c-a50a-e776f6bff517",
   "metadata": {},
   "source": [
    "We now extract the address, validator, datum, datum hash, and redeemer from the JSON file `MARLOWE_FILE`:"
   ]
  },
  {
   "cell_type": "markdown",
   "id": "967c189d-5532-44ee-96fe-695d4e44dc2c",
   "metadata": {},
   "source": [
    "### Address"
   ]
  },
  {
   "cell_type": "code",
   "execution_count": 13,
   "id": "f24b2419-4a04-460b-8c61-95f4278c40d1",
   "metadata": {},
   "outputs": [],
   "source": [
    "ADDRESS_S=$(jq -r '.validator.address' $MARLOWE_FILE)"
   ]
  },
  {
   "cell_type": "code",
   "execution_count": 14,
   "id": "429026e6-9330-4696-abbc-65a7650a043f",
   "metadata": {},
   "outputs": [
    {
     "name": "stdout",
     "output_type": "stream",
     "text": [
      "addr_test1wrv0vwr4megau50ujjwsktvajmsu6dzza2rnalufd3husaqs9v6rv\n"
     ]
    }
   ],
   "source": [
    "echo $ADDRESS_S"
   ]
  },
  {
   "cell_type": "markdown",
   "id": "14641ca7-70e0-4c01-ba65-22625325c925",
   "metadata": {},
   "source": [
    "### Validator"
   ]
  },
  {
   "cell_type": "code",
   "execution_count": 15,
   "id": "dbe3b153-d804-477a-860e-8a159b977d99",
   "metadata": {},
   "outputs": [],
   "source": [
    "jq '.validator.script' $MARLOWE_FILE > $PLUTUS_FILE"
   ]
  },
  {
   "cell_type": "code",
   "execution_count": 16,
   "id": "387c3676-ec5d-4526-a63e-aa7526582481",
   "metadata": {},
   "outputs": [
    {
     "name": "stdout",
     "output_type": "stream",
     "text": [
      "{\n",
      "  \"cborHex\": \"59317c593179010000332323233223232323322323322323232323232323232323232323232323232323232323232323232323232323232332233223232323232332232323232323232323232323232332233223232323232323232323232323232323232323232323232323232323232323232323232323232323233223232323232323232323232323232323223222232325335333222350032232322350062323232323223353235001223500223223355335333573466e2000400c25404250044c0c0c8488c00400ccd542040400c00454cd4ccd5cd19b88001501009501094011303033221223300200400350103355081010030011332212233001004003335508101500200135011222233330840100400300250062302f122222300200622533335333333305309601002001010006509f01509f01130301222220051303012222200313030122222004222221533500513333034004003002001153333335015221303703813501822225335333355307112001505e220a1010040a0011303903a133330380080070060052221303803922213038039222221303a03b2221303803915335333573466e24005403824c0424804540384004cc8848cc00400c0094cd4c8d400488d4008894ccd400884d4010894ccd400884d426c04cd5421004cdc099b800044800"
     ]
    }
   ],
   "source": [
    "head -c 1000 $PLUTUS_FILE"
   ]
  },
  {
   "cell_type": "markdown",
   "id": "e9ccf28c-71e8-4e35-8494-beeb6da9fd58",
   "metadata": {},
   "source": [
    "### Datum"
   ]
  },
  {
   "cell_type": "code",
   "execution_count": 17,
   "id": "57b3a820-2486-435a-aa84-49bd37d484c8",
   "metadata": {},
   "outputs": [],
   "source": [
    "DATUM_HASH=$(jq -r '.datum.hash' $MARLOWE_FILE)"
   ]
  },
  {
   "cell_type": "code",
   "execution_count": 18,
   "id": "115308dd-7dab-41ee-ad6d-7d72242a7d9a",
   "metadata": {},
   "outputs": [
    {
     "name": "stdout",
     "output_type": "stream",
     "text": [
      "582e18df5c61fdc3a839fa931e5b098ae04236f15e84c47949ccb8d382161d7f\n"
     ]
    }
   ],
   "source": [
    "echo $DATUM_HASH"
   ]
  },
  {
   "cell_type": "code",
   "execution_count": 19,
   "id": "87b0f89f-3d6d-40ab-8761-53bd7cf569e9",
   "metadata": {},
   "outputs": [],
   "source": [
    "jq '.datum.json' $MARLOWE_FILE > $DATUM_FILE"
   ]
  },
  {
   "cell_type": "code",
   "execution_count": 20,
   "id": "8061ef7b-db60-4c94-b7b6-95113beee271",
   "metadata": {},
   "outputs": [
    {
     "name": "stdout",
     "output_type": "stream",
     "text": [
      "constructor: 0\n",
      "fields:\n",
      "- constructor: 0\n",
      "  fields:\n",
      "  - bytes: ''\n",
      "- constructor: 0\n",
      "  fields:\n",
      "  - map:\n",
      "    - k:\n",
      "        constructor: 0\n",
      "        fields:\n",
      "        - constructor: 0\n",
      "          fields:\n",
      "          - constructor: 0\n",
      "            fields: []\n",
      "          - constructor: 0\n",
      "            fields:\n",
      "            - constructor: 0\n",
      "              fields:\n",
      "              - bytes: 0a11b0c7e25dc5d9c63171bdf39d9741b901dc903e12b4e162348e07\n",
      "            - constructor: 1\n",
      "              fields: []\n",
      "        - constructor: 0\n",
      "          fields:\n",
      "          - bytes: ''\n",
      "          - bytes: ''\n",
      "      v:\n",
      "        int: 3000000\n",
      "  - map: []\n",
      "  - map: []\n",
      "  - int: 10\n",
      "- constructor: 0\n",
      "  fields: []\n"
     ]
    }
   ],
   "source": [
    "json2yaml $DATUM_FILE"
   ]
  },
  {
   "cell_type": "markdown",
   "id": "df68e353-0d1a-459a-a3ac-50318b64a1c7",
   "metadata": {},
   "source": [
    "### Redeemer"
   ]
  },
  {
   "cell_type": "code",
   "execution_count": 21,
   "id": "7d2150cf-88ed-4ac8-a8e4-d9b17645229a",
   "metadata": {},
   "outputs": [],
   "source": [
    "jq '.redeemer.json' $MARLOWE_FILE > $REDEEMER_FILE"
   ]
  },
  {
   "cell_type": "code",
   "execution_count": 22,
   "id": "cac82440-e16d-4b3f-a9ad-90140765567b",
   "metadata": {},
   "outputs": [
    {
     "name": "stdout",
     "output_type": "stream",
     "text": [
      "list: []\n"
     ]
    }
   ],
   "source": [
    "json2yaml $REDEEMER_FILE"
   ]
  },
  {
   "cell_type": "markdown",
   "id": "f33ace57-2b46-42b1-bf01-8dd0f09e96ac",
   "metadata": {},
   "source": [
    "## 5. Fund the contract.\n",
    "\n",
    "Before running the contract, we need to put funds into it. Examine the UTxOs at the wallet address:"
   ]
  },
  {
   "cell_type": "code",
   "execution_count": 23,
   "id": "0fb3a735-fcae-43a2-8abd-ee36dbc96c20",
   "metadata": {},
   "outputs": [
    {
     "name": "stdout",
     "output_type": "stream",
     "text": [
      "                           TxHash                                 TxIx        Amount\n",
      "--------------------------------------------------------------------------------------\n",
      "280c4f7963729adc2bfd7afa2d45c80d1e6914308d90dfb46baf893468658bbe     0        208801084891 lovelace + TxOutDatumNone\n",
      "280c4f7963729adc2bfd7afa2d45c80d1e6914308d90dfb46baf893468658bbe     1        3000000 lovelace + TxOutDatumNone\n"
     ]
    }
   ],
   "source": [
    "cardano-cli query utxo --testnet-magic $MAGIC --address $ADDRESS_P"
   ]
  },
  {
   "cell_type": "markdown",
   "id": "321bf6ec-d76c-4088-9a22-a0241bac7202",
   "metadata": {},
   "source": [
    "Select one of these UTxOs for use in funding the contract, naming it `TX_0`, and then build and submit the funding transaction:"
   ]
  },
  {
   "cell_type": "code",
   "execution_count": 24,
   "id": "802ada8a-de41-4676-b6ca-7b905ebac8c3",
   "metadata": {},
   "outputs": [],
   "source": [
    "TX_0=\"280c4f7963729adc2bfd7afa2d45c80d1e6914308d90dfb46baf893468658bbe#0\""
   ]
  },
  {
   "cell_type": "code",
   "execution_count": 25,
   "id": "6bfde29f-366e-4b12-8b97-41a709709b1f",
   "metadata": {},
   "outputs": [
    {
     "name": "stdout",
     "output_type": "stream",
     "text": [
      "\n",
      "Fee: Lovelace 174521\n",
      "Size: 291 / 16384 = 1%\n",
      "Execution units:\n",
      "  Memory: 0 / 14000000 = 0%\n",
      "  Steps: 0 / 10000000000 = 0%\n",
      "TxId \"b1b1c8d51e248728801e072545e8641daa4959778f458a3075413c7e9815e2ac\"\n"
     ]
    }
   ],
   "source": [
    "marlowe-cli transaction create --testnet-magic $MAGIC                    \\\n",
    "                               --socket-path \"$CARDANO_NODE_SOCKET_PATH\" \\\n",
    "                               --script-address \"$ADDRESS_S\"             \\\n",
    "                               --tx-out-datum-file $DATUM_FILE           \\\n",
    "                               --tx-out-marlowe $DATUM_LOVELACE          \\\n",
    "                               --tx-in \"$TX_0\"                           \\\n",
    "                               --change-address \"$ADDRESS_P\"             \\\n",
    "                               --out-file tx.raw                         \\\n",
    "                               --required-signer $PAYMENT_SKEY           \\\n",
    "                               --print-stats                             \\\n",
    "                               --submit=600"
   ]
  },
  {
   "cell_type": "markdown",
   "id": "b1611860-9db2-420a-9e9f-e76884324acc",
   "metadata": {},
   "source": [
    "We name the funding transaction as `TX_1`."
   ]
  },
  {
   "cell_type": "code",
   "execution_count": 26,
   "id": "ac974c99-dae1-4646-8a13-17a486b3bcbe",
   "metadata": {},
   "outputs": [],
   "source": [
    "TX_1=b1b1c8d51e248728801e072545e8641daa4959778f458a3075413c7e9815e2ac"
   ]
  },
  {
   "cell_type": "markdown",
   "id": "0616428c-efae-46c0-aefc-c983865e2a3b",
   "metadata": {},
   "source": [
    "After the transaction is recorded on the blockchain, there are funds at the contract address with the data hash `DATUM_HASH`."
   ]
  },
  {
   "cell_type": "code",
   "execution_count": 27,
   "id": "2083f907-f7cb-4b48-aeb2-d4e8e2acaef7",
   "metadata": {},
   "outputs": [
    {
     "name": "stdout",
     "output_type": "stream",
     "text": [
      "582e18df5c61fdc3a839fa931e5b098ae04236f15e84c47949ccb8d382161d7f\n"
     ]
    }
   ],
   "source": [
    "echo $DATUM_HASH"
   ]
  },
  {
   "cell_type": "code",
   "execution_count": 28,
   "id": "91410c55-4718-497b-b178-3dd949b9c5bb",
   "metadata": {},
   "outputs": [
    {
     "name": "stdout",
     "output_type": "stream",
     "text": [
      "                           TxHash                                 TxIx        Amount\n",
      "--------------------------------------------------------------------------------------\n",
      "b1b1c8d51e248728801e072545e8641daa4959778f458a3075413c7e9815e2ac     1        3000000 lovelace + TxOutDatumHash ScriptDataInBabbageEra \"582e18df5c61fdc3a839fa931e5b098ae04236f15e84c47949ccb8d382161d7f\"\n"
     ]
    }
   ],
   "source": [
    "cardano-cli query utxo --testnet-magic $MAGIC --address \"$ADDRESS_S\" | sed -n -e \"1p; 2p; /$TX_1/p\""
   ]
  },
  {
   "cell_type": "markdown",
   "id": "48e5eb11-d6b6-4a47-b9a4-1336f0259a3e",
   "metadata": {},
   "source": [
    "## 6. Redeem the funds by running the contract.\n",
    "\n",
    "We now use the previously computed redeemer and datum to remove the funds from the contract. This involves computing the fee, building the transaction, signing it, and submitting it."
   ]
  },
  {
   "cell_type": "code",
   "execution_count": 29,
   "id": "fee48942-a105-431e-86a0-9405f864c432",
   "metadata": {},
   "outputs": [
    {
     "name": "stdout",
     "output_type": "stream",
     "text": [
      "\n",
      "Fee: Lovelace 972116\n",
      "Size: 13060 / 16384 = 79%\n",
      "Execution units:\n",
      "  Memory: 2962450 / 14000000 = 21%\n",
      "  Steps: 774606677 / 10000000000 = 7%\n",
      "TxId \"5f826ca0d59727e63721056cbe2afb24c6df7d67ffcb1fcc9c3014a675f96f26\"\n"
     ]
    }
   ],
   "source": [
    "marlowe-cli transaction close --testnet-magic $MAGIC                    \\\n",
    "                              --socket-path \"$CARDANO_NODE_SOCKET_PATH\" \\\n",
    "                              --tx-in-script-file $PLUTUS_FILE          \\\n",
    "                              --tx-in-redeemer-file $REDEEMER_FILE      \\\n",
    "                              --tx-in-datum-file $DATUM_FILE            \\\n",
    "                              --tx-in-marlowe \"$TX_1#1\"                 \\\n",
    "                              --tx-in \"$TX_1#0\"                         \\\n",
    "                              --tx-in-collateral \"$TX_1#0\"              \\\n",
    "                              --tx-out \"$ADDRESS_P\"+$DATUM_LOVELACE     \\\n",
    "                              --change-address \"$ADDRESS_P\"             \\\n",
    "                              --invalid-before $REDEEM_MIN_SLOT         \\\n",
    "                              --invalid-hereafter $REDEEM_MAX_SLOT      \\\n",
    "                              --out-file tx.raw                         \\\n",
    "                              --required-signer $PAYMENT_SKEY           \\\n",
    "                              --print-stats                             \\\n",
    "                              --submit=600"
   ]
  },
  {
   "cell_type": "markdown",
   "id": "23f0e2cb-1960-471a-9e9e-07f9e7cac23b",
   "metadata": {},
   "source": [
    "We name the closing transaction as `TX_2`."
   ]
  },
  {
   "cell_type": "code",
   "execution_count": 30,
   "id": "436b6cad-b068-4bf4-830e-7d2b77758156",
   "metadata": {},
   "outputs": [],
   "source": [
    "TX_2=5f826ca0d59727e63721056cbe2afb24c6df7d67ffcb1fcc9c3014a675f96f26"
   ]
  },
  {
   "cell_type": "markdown",
   "id": "5a90bee5-81e1-4084-82e4-abf4f75e6a0b",
   "metadata": {},
   "source": [
    "After the transaction is recorded on the blockchain, we see that the funds were removed from the script address and are in the wallet."
   ]
  },
  {
   "cell_type": "code",
   "execution_count": 31,
   "id": "f4de67a8-acd8-4bd8-9a8b-8c3d2a084d77",
   "metadata": {},
   "outputs": [
    {
     "name": "stdout",
     "output_type": "stream",
     "text": [
      "                           TxHash                                 TxIx        Amount\n",
      "--------------------------------------------------------------------------------------\n"
     ]
    }
   ],
   "source": [
    "cardano-cli query utxo --testnet-magic $MAGIC --address \"$ADDRESS_S\" | sed -n -e \"1p; 2p; /$TX_1/p; /$TX_2/p\""
   ]
  },
  {
   "cell_type": "code",
   "execution_count": 32,
   "id": "4cccd6c6-4db4-4500-bd16-c07b84471548",
   "metadata": {},
   "outputs": [
    {
     "name": "stdout",
     "output_type": "stream",
     "text": [
      "                           TxHash                                 TxIx        Amount\n",
      "--------------------------------------------------------------------------------------\n",
      "5f826ca0d59727e63721056cbe2afb24c6df7d67ffcb1fcc9c3014a675f96f26     0        208796938254 lovelace + TxOutDatumNone\n",
      "5f826ca0d59727e63721056cbe2afb24c6df7d67ffcb1fcc9c3014a675f96f26     1        3000000 lovelace + TxOutDatumNone\n"
     ]
    }
   ],
   "source": [
    "cardano-cli query utxo --testnet-magic $MAGIC --address \"$ADDRESS_P\" | sed -n -e \"1p; 2p; /$TX_1/p; /$TX_2/p\""
   ]
  }
 ],
 "metadata": {
  "kernelspec": {
   "display_name": "Bash - Marlowe",
   "language": "bash",
   "name": "bash_marlowe"
  },
  "language_info": {
   "codemirror_mode": "shell",
   "file_extension": ".sh",
   "mimetype": "text/x-sh",
   "name": "/nix/store/zwjm0gln1vk7x1akpyz0yxjsd1yc46gi-bash-5.1-p16/bin/bash"
  }
 },
 "nbformat": 4,
 "nbformat_minor": 5
}
